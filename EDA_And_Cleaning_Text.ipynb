{
 "cells": [
  {
   "cell_type": "markdown",
   "id": "ce4963f5-e1f7-4efe-825d-a877a7c9a794",
   "metadata": {},
   "source": [
    "# Data Preprocessing"
   ]
  },
  {
   "cell_type": "markdown",
   "id": "e42f979c-2de6-4fc5-8e68-e12061529e88",
   "metadata": {},
   "source": [
    "### Data from [manythings.org](http://www.manythings.org/anki/)"
   ]
  },
  {
   "cell_type": "code",
   "execution_count": 1,
   "id": "dacb37db-b242-4154-965a-0760d8a70eff",
   "metadata": {},
   "outputs": [],
   "source": [
    "import pandas as pd\n",
    "import pickle\n",
    "from wordcloud import WordCloud\n",
    "import matplotlib.pyplot as plt\n",
    "import seaborn as sns\n",
    "import string"
   ]
  },
  {
   "cell_type": "code",
   "execution_count": 2,
   "id": "39ea1288-62fe-44c0-9576-10b0ae780950",
   "metadata": {},
   "outputs": [
    {
     "name": "stdout",
     "output_type": "stream",
     "text": [
      "Data\n",
      "EDA_And_Cleaning_Text.ipynb\n"
     ]
    }
   ],
   "source": [
    "!ls"
   ]
  },
  {
   "cell_type": "code",
   "execution_count": 3,
   "id": "a9e34233-758f-48ab-b5ba-d1c0b7041e51",
   "metadata": {},
   "outputs": [],
   "source": [
    "df = pd.read_csv('Data/mar.txt',encoding='utf-8', sep='\t',  names=['English', 'Marathi', 'Attribution'])"
   ]
  },
  {
   "cell_type": "code",
   "execution_count": 4,
   "id": "68c44535-c661-4931-ae17-b02782b582dd",
   "metadata": {},
   "outputs": [
    {
     "data": {
      "text/html": [
       "<div>\n",
       "<style scoped>\n",
       "    .dataframe tbody tr th:only-of-type {\n",
       "        vertical-align: middle;\n",
       "    }\n",
       "\n",
       "    .dataframe tbody tr th {\n",
       "        vertical-align: top;\n",
       "    }\n",
       "\n",
       "    .dataframe thead th {\n",
       "        text-align: right;\n",
       "    }\n",
       "</style>\n",
       "<table border=\"1\" class=\"dataframe\">\n",
       "  <thead>\n",
       "    <tr style=\"text-align: right;\">\n",
       "      <th></th>\n",
       "      <th>English</th>\n",
       "      <th>Marathi</th>\n",
       "      <th>Attribution</th>\n",
       "    </tr>\n",
       "  </thead>\n",
       "  <tbody>\n",
       "    <tr>\n",
       "      <th>0</th>\n",
       "      <td>Go.</td>\n",
       "      <td>जा.</td>\n",
       "      <td>CC-BY 2.0 (France) Attribution: tatoeba.org #2...</td>\n",
       "    </tr>\n",
       "    <tr>\n",
       "      <th>1</th>\n",
       "      <td>Run!</td>\n",
       "      <td>पळ!</td>\n",
       "      <td>CC-BY 2.0 (France) Attribution: tatoeba.org #9...</td>\n",
       "    </tr>\n",
       "    <tr>\n",
       "      <th>2</th>\n",
       "      <td>Run!</td>\n",
       "      <td>धाव!</td>\n",
       "      <td>CC-BY 2.0 (France) Attribution: tatoeba.org #9...</td>\n",
       "    </tr>\n",
       "    <tr>\n",
       "      <th>3</th>\n",
       "      <td>Run!</td>\n",
       "      <td>पळा!</td>\n",
       "      <td>CC-BY 2.0 (France) Attribution: tatoeba.org #9...</td>\n",
       "    </tr>\n",
       "    <tr>\n",
       "      <th>4</th>\n",
       "      <td>Run!</td>\n",
       "      <td>धावा!</td>\n",
       "      <td>CC-BY 2.0 (France) Attribution: tatoeba.org #9...</td>\n",
       "    </tr>\n",
       "  </tbody>\n",
       "</table>\n",
       "</div>"
      ],
      "text/plain": [
       "  English Marathi                                        Attribution\n",
       "0     Go.     जा.  CC-BY 2.0 (France) Attribution: tatoeba.org #2...\n",
       "1    Run!     पळ!  CC-BY 2.0 (France) Attribution: tatoeba.org #9...\n",
       "2    Run!    धाव!  CC-BY 2.0 (France) Attribution: tatoeba.org #9...\n",
       "3    Run!    पळा!  CC-BY 2.0 (France) Attribution: tatoeba.org #9...\n",
       "4    Run!   धावा!  CC-BY 2.0 (France) Attribution: tatoeba.org #9..."
      ]
     },
     "execution_count": 4,
     "metadata": {},
     "output_type": "execute_result"
    }
   ],
   "source": [
    "df.head()"
   ]
  },
  {
   "cell_type": "markdown",
   "id": "fb2781fb-0883-413e-8288-2968697b3eac",
   "metadata": {},
   "source": [
    "#### drop Attribution"
   ]
  },
  {
   "cell_type": "code",
   "execution_count": 5,
   "id": "e90490cb-a55a-4bd6-a5c5-d7e7f5ada5cf",
   "metadata": {},
   "outputs": [],
   "source": [
    "df.drop(['Attribution'], axis=1, inplace=True)"
   ]
  },
  {
   "cell_type": "code",
   "execution_count": 6,
   "id": "d702a2f0-6210-44fd-b1e4-f163346a75df",
   "metadata": {},
   "outputs": [
    {
     "name": "stdout",
     "output_type": "stream",
     "text": [
      "<class 'pandas.core.frame.DataFrame'>\n",
      "RangeIndex: 41028 entries, 0 to 41027\n",
      "Data columns (total 2 columns):\n",
      " #   Column   Non-Null Count  Dtype \n",
      "---  ------   --------------  ----- \n",
      " 0   English  41028 non-null  object\n",
      " 1   Marathi  41028 non-null  object\n",
      "dtypes: object(2)\n",
      "memory usage: 641.2+ KB\n"
     ]
    }
   ],
   "source": [
    "df.info()"
   ]
  },
  {
   "cell_type": "code",
   "execution_count": 7,
   "id": "dd8a4208-9fc3-4e79-9ddb-90a64d0ba0bf",
   "metadata": {},
   "outputs": [
    {
     "data": {
      "text/plain": [
       "English    0\n",
       "Marathi    0\n",
       "dtype: int64"
      ]
     },
     "execution_count": 7,
     "metadata": {},
     "output_type": "execute_result"
    }
   ],
   "source": [
    "df.isna().sum()"
   ]
  },
  {
   "cell_type": "markdown",
   "id": "0c58954e-4972-48a3-9706-eeeba75881f2",
   "metadata": {},
   "source": [
    "## clean text"
   ]
  },
  {
   "cell_type": "markdown",
   "id": "8a12cd01-a181-4cb0-a538-4b280424163d",
   "metadata": {},
   "source": [
    "#### remove mutiple spaces"
   ]
  },
  {
   "cell_type": "code",
   "execution_count": 8,
   "id": "4a3e6f96-2a1e-427d-8a02-81ee72073d9d",
   "metadata": {},
   "outputs": [],
   "source": [
    "df.English = df.English.apply(lambda x: \" \".join(x.split()))\n",
    "df.Marathi = df.Marathi.apply(lambda x: \" \".join(x.split()))"
   ]
  },
  {
   "cell_type": "markdown",
   "id": "8a87ffd5-8109-41d3-abde-e8e45f8232a2",
   "metadata": {},
   "source": [
    "#### lowercare only english characters beause marathi dont have lower and uppercaser"
   ]
  },
  {
   "cell_type": "code",
   "execution_count": 9,
   "id": "c13fec97-af93-40ae-b4b7-e546ff03e220",
   "metadata": {},
   "outputs": [],
   "source": [
    "df.English = df.English.apply(lambda x: x.lower())"
   ]
  },
  {
   "cell_type": "markdown",
   "id": "b5b5c576-bf7c-41cd-8c08-0cf040201ede",
   "metadata": {},
   "source": [
    "### Contraction to expansion of english text"
   ]
  },
  {
   "cell_type": "markdown",
   "id": "c148e11d-47cc-40f9-ac8a-49fed21dd63e",
   "metadata": {},
   "source": [
    "##### this contraction dictionary is combination from lot of places"
   ]
  },
  {
   "cell_type": "code",
   "execution_count": 10,
   "id": "841c96e5-5e85-44e0-8cd8-8674eca71c6f",
   "metadata": {},
   "outputs": [],
   "source": [
    "with open(\"Data/contraction_expansion.txt\", 'rb') as fp:\n",
    "    contractions= pickle.load(fp)\n"
   ]
  },
  {
   "cell_type": "code",
   "execution_count": 11,
   "id": "b6fd3e2e-ab8b-46fb-9b1b-4488570cf633",
   "metadata": {},
   "outputs": [],
   "source": [
    "def expand_contras(text):\n",
    "    '''\n",
    "    takes input as word or list of words\n",
    "    if it is string and contracted it will expand it\n",
    "    example:\n",
    "    it's --> it is\n",
    "    won't --> would not\n",
    "    '''\n",
    "    if type(text) is str:\n",
    "        for key in contractions:\n",
    "            value = contractions[key]\n",
    "            text = text.replace(key, value)\n",
    "        return text\n",
    "    else:\n",
    "        return text\n",
    "    "
   ]
  },
  {
   "cell_type": "code",
   "execution_count": 12,
   "id": "cfdbe321-eb91-4274-8f68-0c5c239ead5d",
   "metadata": {},
   "outputs": [
    {
     "data": {
      "text/html": [
       "<div>\n",
       "<style scoped>\n",
       "    .dataframe tbody tr th:only-of-type {\n",
       "        vertical-align: middle;\n",
       "    }\n",
       "\n",
       "    .dataframe tbody tr th {\n",
       "        vertical-align: top;\n",
       "    }\n",
       "\n",
       "    .dataframe thead th {\n",
       "        text-align: right;\n",
       "    }\n",
       "</style>\n",
       "<table border=\"1\" class=\"dataframe\">\n",
       "  <thead>\n",
       "    <tr style=\"text-align: right;\">\n",
       "      <th></th>\n",
       "      <th>English</th>\n",
       "      <th>Marathi</th>\n",
       "    </tr>\n",
       "  </thead>\n",
       "  <tbody>\n",
       "    <tr>\n",
       "      <th>24065</th>\n",
       "      <td>tom and i were both tired.</td>\n",
       "      <td>टॉम आणि मी दोघेही थकलो होतो.</td>\n",
       "    </tr>\n",
       "    <tr>\n",
       "      <th>19495</th>\n",
       "      <td>he doesn't need to work.</td>\n",
       "      <td>त्याला काम करण्याची गरज नाहीये.</td>\n",
       "    </tr>\n",
       "    <tr>\n",
       "      <th>20212</th>\n",
       "      <td>show me your right hand.</td>\n",
       "      <td>उजवा हात दाखव.</td>\n",
       "    </tr>\n",
       "    <tr>\n",
       "      <th>28508</th>\n",
       "      <td>i've never seen a live whale.</td>\n",
       "      <td>मी जिवंत देवमासा कधीही पाहिला नाहीये.</td>\n",
       "    </tr>\n",
       "    <tr>\n",
       "      <th>32651</th>\n",
       "      <td>he died when he was 54 years old.</td>\n",
       "      <td>ते ५४ वर्षांचे असताना वारले.</td>\n",
       "    </tr>\n",
       "    <tr>\n",
       "      <th>7225</th>\n",
       "      <td>he began to shout.</td>\n",
       "      <td>त्याने ओरडायला सुरुवात केली.</td>\n",
       "    </tr>\n",
       "    <tr>\n",
       "      <th>37683</th>\n",
       "      <td>there aren't any bullets in this pistol.</td>\n",
       "      <td>या पिस्तुलीत गोळ्या नाहीत.</td>\n",
       "    </tr>\n",
       "    <tr>\n",
       "      <th>25516</th>\n",
       "      <td>our director is a canadian.</td>\n",
       "      <td>आमचा दिग्दर्शक कॅनेडियन आहे.</td>\n",
       "    </tr>\n",
       "    <tr>\n",
       "      <th>8817</th>\n",
       "      <td>will you be there?</td>\n",
       "      <td>तू असशील का तिथे?</td>\n",
       "    </tr>\n",
       "    <tr>\n",
       "      <th>14149</th>\n",
       "      <td>let's wait till 2:30.</td>\n",
       "      <td>२:३० पर्यंत थांबूया.</td>\n",
       "    </tr>\n",
       "  </tbody>\n",
       "</table>\n",
       "</div>"
      ],
      "text/plain": [
       "                                        English  \\\n",
       "24065                tom and i were both tired.   \n",
       "19495                  he doesn't need to work.   \n",
       "20212                  show me your right hand.   \n",
       "28508             i've never seen a live whale.   \n",
       "32651         he died when he was 54 years old.   \n",
       "7225                         he began to shout.   \n",
       "37683  there aren't any bullets in this pistol.   \n",
       "25516               our director is a canadian.   \n",
       "8817                         will you be there?   \n",
       "14149                     let's wait till 2:30.   \n",
       "\n",
       "                                     Marathi  \n",
       "24065           टॉम आणि मी दोघेही थकलो होतो.  \n",
       "19495        त्याला काम करण्याची गरज नाहीये.  \n",
       "20212                         उजवा हात दाखव.  \n",
       "28508  मी जिवंत देवमासा कधीही पाहिला नाहीये.  \n",
       "32651           ते ५४ वर्षांचे असताना वारले.  \n",
       "7225            त्याने ओरडायला सुरुवात केली.  \n",
       "37683             या पिस्तुलीत गोळ्या नाहीत.  \n",
       "25516           आमचा दिग्दर्शक कॅनेडियन आहे.  \n",
       "8817                       तू असशील का तिथे?  \n",
       "14149                   २:३० पर्यंत थांबूया.  "
      ]
     },
     "execution_count": 12,
     "metadata": {},
     "output_type": "execute_result"
    }
   ],
   "source": [
    "df.sample(10)\n"
   ]
  },
  {
   "cell_type": "code",
   "execution_count": 13,
   "id": "65f58d11-ff2c-4ec0-a7fe-46de3b88116a",
   "metadata": {},
   "outputs": [
    {
     "data": {
      "text/plain": [
       "'i am do not he will you will'"
      ]
     },
     "execution_count": 13,
     "metadata": {},
     "output_type": "execute_result"
    }
   ],
   "source": [
    "xyz = \"i'm don't he'll you'll\"\n",
    "expand_contras(xyz)"
   ]
  },
  {
   "cell_type": "code",
   "execution_count": 14,
   "id": "6ed33a3e-66e7-4cc9-8be0-9e3a65df123e",
   "metadata": {},
   "outputs": [],
   "source": [
    "df.English = df.English.apply(lambda x: expand_contras(x))"
   ]
  },
  {
   "cell_type": "code",
   "execution_count": 22,
   "id": "c7d148ca-c7c7-4282-a2b2-bab78112ff25",
   "metadata": {},
   "outputs": [
    {
     "data": {
      "text/html": [
       "<div>\n",
       "<style scoped>\n",
       "    .dataframe tbody tr th:only-of-type {\n",
       "        vertical-align: middle;\n",
       "    }\n",
       "\n",
       "    .dataframe tbody tr th {\n",
       "        vertical-align: top;\n",
       "    }\n",
       "\n",
       "    .dataframe thead th {\n",
       "        text-align: right;\n",
       "    }\n",
       "</style>\n",
       "<table border=\"1\" class=\"dataframe\">\n",
       "  <thead>\n",
       "    <tr style=\"text-align: right;\">\n",
       "      <th></th>\n",
       "      <th>English</th>\n",
       "      <th>Marathi</th>\n",
       "    </tr>\n",
       "  </thead>\n",
       "  <tbody>\n",
       "    <tr>\n",
       "      <th>1745</th>\n",
       "      <td>tom has time.</td>\n",
       "      <td>टॉमकडे वेळ आहे.</td>\n",
       "    </tr>\n",
       "    <tr>\n",
       "      <th>7812</th>\n",
       "      <td>it is dark outside.</td>\n",
       "      <td>बाहेर अंधार आहे.</td>\n",
       "    </tr>\n",
       "    <tr>\n",
       "      <th>609</th>\n",
       "      <td>i am coming.</td>\n",
       "      <td>मी येतेय.</td>\n",
       "    </tr>\n",
       "    <tr>\n",
       "      <th>7818</th>\n",
       "      <td>it is now or never.</td>\n",
       "      <td>आता नाही तर कधीच नाही.</td>\n",
       "    </tr>\n",
       "    <tr>\n",
       "      <th>3852</th>\n",
       "      <td>who called you?</td>\n",
       "      <td>तुला कोणी फोन केला?</td>\n",
       "    </tr>\n",
       "  </tbody>\n",
       "</table>\n",
       "</div>"
      ],
      "text/plain": [
       "                  English                 Marathi\n",
       "1745        tom has time.         टॉमकडे वेळ आहे.\n",
       "7812  it is dark outside.        बाहेर अंधार आहे.\n",
       "609          i am coming.               मी येतेय.\n",
       "7818  it is now or never.  आता नाही तर कधीच नाही.\n",
       "3852      who called you?     तुला कोणी फोन केला?"
      ]
     },
     "execution_count": 22,
     "metadata": {},
     "output_type": "execute_result"
    }
   ],
   "source": [
    "df.sample(5)"
   ]
  },
  {
   "cell_type": "markdown",
   "id": "b83a0a59-7a9e-4460-926a-6a5f09ca5eb9",
   "metadata": {},
   "source": [
    "#### remove all punctuations"
   ]
  },
  {
   "cell_type": "code",
   "execution_count": 23,
   "id": "1872295a-5a80-499c-bdb4-c8cbff3d4783",
   "metadata": {},
   "outputs": [],
   "source": [
    "translator= str.maketrans('','', string.punctuation)"
   ]
  },
  {
   "cell_type": "code",
   "execution_count": 24,
   "id": "99d58179-6829-4595-a2f2-feedbc969531",
   "metadata": {},
   "outputs": [],
   "source": [
    "df.English= df.English.apply(lambda x: x.translate(translator))\n",
    "df.Marathi= df.Marathi.apply(lambda x: x.translate(translator))"
   ]
  },
  {
   "cell_type": "code",
   "execution_count": 25,
   "id": "c7f33126-94fa-471c-8487-1caacbbd9dae",
   "metadata": {},
   "outputs": [
    {
     "data": {
      "text/html": [
       "<div>\n",
       "<style scoped>\n",
       "    .dataframe tbody tr th:only-of-type {\n",
       "        vertical-align: middle;\n",
       "    }\n",
       "\n",
       "    .dataframe tbody tr th {\n",
       "        vertical-align: top;\n",
       "    }\n",
       "\n",
       "    .dataframe thead th {\n",
       "        text-align: right;\n",
       "    }\n",
       "</style>\n",
       "<table border=\"1\" class=\"dataframe\">\n",
       "  <thead>\n",
       "    <tr style=\"text-align: right;\">\n",
       "      <th></th>\n",
       "      <th>English</th>\n",
       "      <th>Marathi</th>\n",
       "    </tr>\n",
       "  </thead>\n",
       "  <tbody>\n",
       "    <tr>\n",
       "      <th>27130</th>\n",
       "      <td>she dressed herself quickly</td>\n",
       "      <td>तिने झटपट कपडे घातले</td>\n",
       "    </tr>\n",
       "    <tr>\n",
       "      <th>39749</th>\n",
       "      <td>do not talk to the bus driver while he is driving</td>\n",
       "      <td>बस चालक बस चालवत असताना त्यांच्याशी बोलू नकोस</td>\n",
       "    </tr>\n",
       "    <tr>\n",
       "      <th>39309</th>\n",
       "      <td>this hill of termites is located in tanzania</td>\n",
       "      <td>वाळवींचं हे वारुळ टांझानियामध्ये स्थित आहे</td>\n",
       "    </tr>\n",
       "    <tr>\n",
       "      <th>18397</th>\n",
       "      <td>show me something else</td>\n",
       "      <td>मला काहीतरी दुसरं दाखवा</td>\n",
       "    </tr>\n",
       "    <tr>\n",
       "      <th>2142</th>\n",
       "      <td>i like tulips</td>\n",
       "      <td>मला टुलिप आवडतात</td>\n",
       "    </tr>\n",
       "  </tbody>\n",
       "</table>\n",
       "</div>"
      ],
      "text/plain": [
       "                                                 English  \\\n",
       "27130                        she dressed herself quickly   \n",
       "39749  do not talk to the bus driver while he is driving   \n",
       "39309       this hill of termites is located in tanzania   \n",
       "18397                             show me something else   \n",
       "2142                                       i like tulips   \n",
       "\n",
       "                                             Marathi  \n",
       "27130                           तिने झटपट कपडे घातले  \n",
       "39749  बस चालक बस चालवत असताना त्यांच्याशी बोलू नकोस  \n",
       "39309     वाळवींचं हे वारुळ टांझानियामध्ये स्थित आहे  \n",
       "18397                        मला काहीतरी दुसरं दाखवा  \n",
       "2142                                मला टुलिप आवडतात  "
      ]
     },
     "execution_count": 25,
     "metadata": {},
     "output_type": "execute_result"
    }
   ],
   "source": [
    "df.sample(5)"
   ]
  },
  {
   "cell_type": "markdown",
   "id": "a554a2b0-e11b-4749-a5b4-3881af303e36",
   "metadata": {},
   "source": [
    "### Remove digits"
   ]
  },
  {
   "cell_type": "code",
   "execution_count": 26,
   "id": "6b710ce5-1014-43d2-af56-965b55dc5e98",
   "metadata": {},
   "outputs": [],
   "source": [
    "import re"
   ]
  },
  {
   "cell_type": "code",
   "execution_count": 27,
   "id": "35ef3009-f89f-4c0f-91dd-9148117eb31e",
   "metadata": {},
   "outputs": [],
   "source": [
    "df.English= df.English.apply(lambda x: re.sub(r'[\\d]+','', x))\n",
    "df.Marathi= df.Marathi.apply(lambda x: re.sub(r'[\\d]+','', x))"
   ]
  },
  {
   "cell_type": "markdown",
   "id": "7be29506-3481-4144-87b6-140291739760",
   "metadata": {},
   "source": [
    "## Visualize some features of dataset"
   ]
  },
  {
   "cell_type": "markdown",
   "id": "a6e1b82f-b334-471e-b8f7-6903245cf75a",
   "metadata": {},
   "source": [
    "#### create new column for count of words"
   ]
  },
  {
   "cell_type": "code",
   "execution_count": 29,
   "id": "431e17e3-ef31-4b55-ba74-e1214542aa47",
   "metadata": {},
   "outputs": [],
   "source": [
    "df['en_word_count']= df.English.apply(lambda x: len(x.split()))\n",
    "df['mar_word_count']= df.Marathi.apply(lambda x: len(x.split()))"
   ]
  },
  {
   "cell_type": "markdown",
   "id": "debcfed3-f126-4ded-a415-7acebe483d58",
   "metadata": {},
   "source": [
    "#### create new column for count of characters"
   ]
  },
  {
   "cell_type": "code",
   "execution_count": 30,
   "id": "3305d2ba-8dc7-4773-9615-43bcaf1e1f79",
   "metadata": {},
   "outputs": [],
   "source": [
    "df['mar_char_count']= df.Marathi.apply(lambda x: len(\"\".join(x.split())))\n",
    "df['en_char_count']= df.English.apply(lambda x: len(\"\".join(x.split())))"
   ]
  },
  {
   "cell_type": "code",
   "execution_count": 31,
   "id": "32f043e7-0223-4abc-b6c7-e8fd9344ea23",
   "metadata": {},
   "outputs": [
    {
     "data": {
      "text/html": [
       "<div>\n",
       "<style scoped>\n",
       "    .dataframe tbody tr th:only-of-type {\n",
       "        vertical-align: middle;\n",
       "    }\n",
       "\n",
       "    .dataframe tbody tr th {\n",
       "        vertical-align: top;\n",
       "    }\n",
       "\n",
       "    .dataframe thead th {\n",
       "        text-align: right;\n",
       "    }\n",
       "</style>\n",
       "<table border=\"1\" class=\"dataframe\">\n",
       "  <thead>\n",
       "    <tr style=\"text-align: right;\">\n",
       "      <th></th>\n",
       "      <th>English</th>\n",
       "      <th>Marathi</th>\n",
       "      <th>en_word_count</th>\n",
       "      <th>mar_word_count</th>\n",
       "      <th>mar_char_count</th>\n",
       "      <th>en_char_count</th>\n",
       "    </tr>\n",
       "  </thead>\n",
       "  <tbody>\n",
       "    <tr>\n",
       "      <th>0</th>\n",
       "      <td>go</td>\n",
       "      <td>जा</td>\n",
       "      <td>1</td>\n",
       "      <td>1</td>\n",
       "      <td>2</td>\n",
       "      <td>2</td>\n",
       "    </tr>\n",
       "    <tr>\n",
       "      <th>1</th>\n",
       "      <td>run</td>\n",
       "      <td>पळ</td>\n",
       "      <td>1</td>\n",
       "      <td>1</td>\n",
       "      <td>2</td>\n",
       "      <td>3</td>\n",
       "    </tr>\n",
       "    <tr>\n",
       "      <th>2</th>\n",
       "      <td>run</td>\n",
       "      <td>धाव</td>\n",
       "      <td>1</td>\n",
       "      <td>1</td>\n",
       "      <td>3</td>\n",
       "      <td>3</td>\n",
       "    </tr>\n",
       "    <tr>\n",
       "      <th>3</th>\n",
       "      <td>run</td>\n",
       "      <td>पळा</td>\n",
       "      <td>1</td>\n",
       "      <td>1</td>\n",
       "      <td>3</td>\n",
       "      <td>3</td>\n",
       "    </tr>\n",
       "    <tr>\n",
       "      <th>4</th>\n",
       "      <td>run</td>\n",
       "      <td>धावा</td>\n",
       "      <td>1</td>\n",
       "      <td>1</td>\n",
       "      <td>4</td>\n",
       "      <td>3</td>\n",
       "    </tr>\n",
       "  </tbody>\n",
       "</table>\n",
       "</div>"
      ],
      "text/plain": [
       "  English Marathi  en_word_count  mar_word_count  mar_char_count  \\\n",
       "0      go      जा              1               1               2   \n",
       "1     run      पळ              1               1               2   \n",
       "2     run     धाव              1               1               3   \n",
       "3     run     पळा              1               1               3   \n",
       "4     run    धावा              1               1               4   \n",
       "\n",
       "   en_char_count  \n",
       "0              2  \n",
       "1              3  \n",
       "2              3  \n",
       "3              3  \n",
       "4              3  "
      ]
     },
     "execution_count": 31,
     "metadata": {},
     "output_type": "execute_result"
    }
   ],
   "source": [
    "df.head()"
   ]
  },
  {
   "cell_type": "code",
   "execution_count": 46,
   "id": "275e648b-2db2-47d2-b4e4-b6c3050d7908",
   "metadata": {},
   "outputs": [
    {
     "data": {
      "text/plain": [
       "<AxesSubplot:xlabel='en_word_count', ylabel='Density'>"
      ]
     },
     "execution_count": 46,
     "metadata": {},
     "output_type": "execute_result"
    },
    {
     "data": {
      "image/png": "[encoded data removed]",
      "text/plain": [
       "<Figure size 1080x720 with 1 Axes>"
      ]
     },
     "metadata": {
      "needs_background": "light"
     },
     "output_type": "display_data"
    }
   ],
   "source": [
    "plt.figure(figsize=(15,10))\n",
    "sns.kdeplot(x=df.en_word_count, shade=True, color='blue', label='Real')"
   ]
  },
  {
   "cell_type": "markdown",
   "id": "c74359b5-ad5e-4941-8f6b-69165115268a",
   "metadata": {},
   "source": [
    "## note lot of sentences are of 4 to 7 length"
   ]
  },
  {
   "cell_type": "code",
   "execution_count": 33,
   "id": "9a759a83-348a-4202-905e-ca4aaed4b971",
   "metadata": {},
   "outputs": [
    {
     "data": {
      "text/plain": [
       "36"
      ]
     },
     "execution_count": 33,
     "metadata": {},
     "output_type": "execute_result"
    }
   ],
   "source": [
    "max(df.en_word_count)"
   ]
  },
  {
   "cell_type": "code",
   "execution_count": 48,
   "id": "ea8e6ab4-fdbe-4a2f-8ff8-00eadeb5120f",
   "metadata": {},
   "outputs": [
    {
     "data": {
      "text/plain": [
       "<AxesSubplot:xlabel='mar_word_count', ylabel='Density'>"
      ]
     },
     "execution_count": 48,
     "metadata": {},
     "output_type": "execute_result"
    },
    {
     "data": {
      "image/png": "[encoded data removed]",
      "text/plain": [
       "<Figure size 1080x720 with 1 Axes>"
      ]
     },
     "metadata": {
      "needs_background": "light"
     },
     "output_type": "display_data"
    }
   ],
   "source": [
    "plt.figure(figsize=(15,10))\n",
    "sns.kdeplot(x=df.mar_word_count, shade=True, color='green', label='Real')"
   ]
  },
  {
   "cell_type": "code",
   "execution_count": 35,
   "id": "814770a2-0259-459f-a6b3-4fcb3105a661",
   "metadata": {},
   "outputs": [
    {
     "data": {
      "text/plain": [
       "35"
      ]
     },
     "execution_count": 35,
     "metadata": {},
     "output_type": "execute_result"
    }
   ],
   "source": [
    "max(df.mar_word_count)"
   ]
  },
  {
   "cell_type": "code",
   "execution_count": 36,
   "id": "71d581b9-5009-44e5-92dc-b0125440fe10",
   "metadata": {},
   "outputs": [
    {
     "name": "stderr",
     "output_type": "stream",
     "text": [
      "D:\\Machine_learning\\Recurrent_Neural_Network\\Recurrent_Env\\lib\\site-packages\\seaborn\\distributions.py:2557: FutureWarning: `distplot` is a deprecated function and will be removed in a future version. Please adapt your code to use either `displot` (a figure-level function with similar flexibility) or `histplot` (an axes-level function for histograms).\n",
      "  warnings.warn(msg, FutureWarning)\n"
     ]
    },
    {
     "data": {
      "text/plain": [
       "<AxesSubplot:ylabel='Density'>"
      ]
     },
     "execution_count": 36,
     "metadata": {},
     "output_type": "execute_result"
    },
    {
     "data": {
      "image/png": "[encoded data removed]",
      "text/plain": [
       "<Figure size 720x576 with 1 Axes>"
      ]
     },
     "metadata": {
      "needs_background": "light"
     },
     "output_type": "display_data"
    }
   ],
   "source": [
    "plt.figure(figsize=(10,8))\n",
    "sns.distplot(x=df.en_char_count)"
   ]
  },
  {
   "cell_type": "code",
   "execution_count": 37,
   "id": "764c6248-fda2-454e-be21-3ca6b124b579",
   "metadata": {},
   "outputs": [
    {
     "name": "stderr",
     "output_type": "stream",
     "text": [
      "D:\\Machine_learning\\Recurrent_Neural_Network\\Recurrent_Env\\lib\\site-packages\\seaborn\\distributions.py:2557: FutureWarning: `distplot` is a deprecated function and will be removed in a future version. Please adapt your code to use either `displot` (a figure-level function with similar flexibility) or `histplot` (an axes-level function for histograms).\n",
      "  warnings.warn(msg, FutureWarning)\n"
     ]
    },
    {
     "data": {
      "text/plain": [
       "<AxesSubplot:ylabel='Density'>"
      ]
     },
     "execution_count": 37,
     "metadata": {},
     "output_type": "execute_result"
    },
    {
     "data": {
      "image/png": "[encoded data removed]",
      "text/plain": [
       "<Figure size 720x576 with 1 Axes>"
      ]
     },
     "metadata": {
      "needs_background": "light"
     },
     "output_type": "display_data"
    }
   ],
   "source": [
    "plt.figure(figsize=(10,8))\n",
    "sns.distplot(x=df.mar_char_count)"
   ]
  },
  {
   "cell_type": "markdown",
   "id": "a8fb02d1-7b91-4459-9f44-acfadca62c28",
   "metadata": {},
   "source": [
    "### save cleaned text"
   ]
  },
  {
   "cell_type": "code",
   "execution_count": 49,
   "id": "cf992d5f-096a-4fc7-ab1b-8f23ecf0adac",
   "metadata": {},
   "outputs": [
    {
     "data": {
      "text/html": [
       "<div>\n",
       "<style scoped>\n",
       "    .dataframe tbody tr th:only-of-type {\n",
       "        vertical-align: middle;\n",
       "    }\n",
       "\n",
       "    .dataframe tbody tr th {\n",
       "        vertical-align: top;\n",
       "    }\n",
       "\n",
       "    .dataframe thead th {\n",
       "        text-align: right;\n",
       "    }\n",
       "</style>\n",
       "<table border=\"1\" class=\"dataframe\">\n",
       "  <thead>\n",
       "    <tr style=\"text-align: right;\">\n",
       "      <th></th>\n",
       "      <th>English</th>\n",
       "      <th>Marathi</th>\n",
       "      <th>en_word_count</th>\n",
       "      <th>mar_word_count</th>\n",
       "      <th>mar_char_count</th>\n",
       "      <th>en_char_count</th>\n",
       "    </tr>\n",
       "  </thead>\n",
       "  <tbody>\n",
       "    <tr>\n",
       "      <th>0</th>\n",
       "      <td>go</td>\n",
       "      <td>जा</td>\n",
       "      <td>1</td>\n",
       "      <td>1</td>\n",
       "      <td>2</td>\n",
       "      <td>2</td>\n",
       "    </tr>\n",
       "    <tr>\n",
       "      <th>1</th>\n",
       "      <td>run</td>\n",
       "      <td>पळ</td>\n",
       "      <td>1</td>\n",
       "      <td>1</td>\n",
       "      <td>2</td>\n",
       "      <td>3</td>\n",
       "    </tr>\n",
       "    <tr>\n",
       "      <th>2</th>\n",
       "      <td>run</td>\n",
       "      <td>धाव</td>\n",
       "      <td>1</td>\n",
       "      <td>1</td>\n",
       "      <td>3</td>\n",
       "      <td>3</td>\n",
       "    </tr>\n",
       "    <tr>\n",
       "      <th>3</th>\n",
       "      <td>run</td>\n",
       "      <td>पळा</td>\n",
       "      <td>1</td>\n",
       "      <td>1</td>\n",
       "      <td>3</td>\n",
       "      <td>3</td>\n",
       "    </tr>\n",
       "    <tr>\n",
       "      <th>4</th>\n",
       "      <td>run</td>\n",
       "      <td>धावा</td>\n",
       "      <td>1</td>\n",
       "      <td>1</td>\n",
       "      <td>4</td>\n",
       "      <td>3</td>\n",
       "    </tr>\n",
       "  </tbody>\n",
       "</table>\n",
       "</div>"
      ],
      "text/plain": [
       "  English Marathi  en_word_count  mar_word_count  mar_char_count  \\\n",
       "0      go      जा              1               1               2   \n",
       "1     run      पळ              1               1               2   \n",
       "2     run     धाव              1               1               3   \n",
       "3     run     पळा              1               1               3   \n",
       "4     run    धावा              1               1               4   \n",
       "\n",
       "   en_char_count  \n",
       "0              2  \n",
       "1              3  \n",
       "2              3  \n",
       "3              3  \n",
       "4              3  "
      ]
     },
     "execution_count": 49,
     "metadata": {},
     "output_type": "execute_result"
    }
   ],
   "source": [
    "df.head()"
   ]
  },
  {
   "cell_type": "code",
   "execution_count": 50,
   "id": "60c94074-6802-437c-8505-87f1e25aeac3",
   "metadata": {},
   "outputs": [],
   "source": [
    "df.to_csv(\"Data/cleaned.csv\",index=None)"
   ]
  },
  {
   "cell_type": "markdown",
   "id": "69058fb5-1d16-48c5-953f-4f290d9a289d",
   "metadata": {},
   "source": [
    "# Conclusion"
   ]
  },
  {
   "cell_type": "markdown",
   "id": "51b7a04b-952f-42ed-9505-ae279c135b36",
   "metadata": {},
   "source": [
    "* 41028 samples of sentenses\n",
    "* Min len of both eng and mar sentence is 1\n",
    "* Max len of both is 35 -- this will help for padding\n",
    "* And we cleaned text removed all punctuatuins digits and expanded contractions in this notebook"
   ]
  },
  {
   "cell_type": "code",
   "execution_count": null,
   "id": "bcddd23b-5925-4598-833d-c147f6789615",
   "metadata": {},
   "outputs": [],
   "source": []
  }
 ],
 "metadata": {
  "kernelspec": {
   "display_name": "Python 3 (ipykernel)",
   "language": "python",
   "name": "python3"
  },
  "language_info": {
   "codemirror_mode": {
    "name": "ipython",
    "version": 3
   },
   "file_extension": ".py",
   "mimetype": "text/x-python",
   "name": "python",
   "nbconvert_exporter": "python",
   "pygments_lexer": "ipython3",
   "version": "3.10.2"
  }
 },
 "nbformat": 4,
 "nbformat_minor": 5
}
