{
 "cells": [
  {
   "cell_type": "markdown",
   "metadata": {
    "id": "IbcCAqpXV9yU"
   },
   "source": [
    "# Training Bidirectional LSTM With Attention"
   ]
  },
  {
   "cell_type": "code",
   "execution_count": 1,
   "metadata": {
    "id": "hPCZsdCPUt7N"
   },
   "outputs": [],
   "source": [
    "import pandas as pd\n",
    "import numpy as np\n",
    "import string\n",
    "\n",
    "import matplotlib.pyplot as plt\n",
    "%matplotlib inline\n",
    "\n",
    "import tensorflow as tf\n",
    "\n",
    "from sklearn.model_selection import train_test_split\n",
    "import re\n",
    "import os"
   ]
  },
  {
   "cell_type": "markdown",
   "metadata": {
    "id": "m-IvkW5VWJZK"
   },
   "source": [
    "#### Import cleaned data"
   ]
  },
  {
   "cell_type": "code",
   "execution_count": 3,
   "metadata": {
    "id": "XMd1NnfjVDPX"
   },
   "outputs": [],
   "source": [
    "df = pd.read_csv(\"cleaned.csv\")"
   ]
  },
  {
   "cell_type": "code",
   "execution_count": 4,
   "metadata": {
    "colab": {
     "base_uri": "https://localhost:8080/",
     "height": 204
    },
    "id": "_VJAduWVVWUa",
    "outputId": "f80a564c-2668-4313-e3fc-95057de1add5"
   },
   "outputs": [
    {
     "data": {
      "text/html": [
       "<div>\n",
       "<style scoped>\n",
       "    .dataframe tbody tr th:only-of-type {\n",
       "        vertical-align: middle;\n",
       "    }\n",
       "\n",
       "    .dataframe tbody tr th {\n",
       "        vertical-align: top;\n",
       "    }\n",
       "\n",
       "    .dataframe thead th {\n",
       "        text-align: right;\n",
       "    }\n",
       "</style>\n",
       "<table border=\"1\" class=\"dataframe\">\n",
       "  <thead>\n",
       "    <tr style=\"text-align: right;\">\n",
       "      <th></th>\n",
       "      <th>English</th>\n",
       "      <th>Marathi</th>\n",
       "    </tr>\n",
       "  </thead>\n",
       "  <tbody>\n",
       "    <tr>\n",
       "      <th>41023</th>\n",
       "      <td>just saying you do not like fish because of th...</td>\n",
       "      <td>हड्डींमुळे मासे आवडत नाही असं म्हणणं हे काय मा...</td>\n",
       "    </tr>\n",
       "    <tr>\n",
       "      <th>41024</th>\n",
       "      <td>the japanese parliament today officially elect...</td>\n",
       "      <td>आज जपानी संसदेने अधिकृतरित्या र्‍यौतारौ हाशिमो...</td>\n",
       "    </tr>\n",
       "    <tr>\n",
       "      <th>41025</th>\n",
       "      <td>tom tried to sell his old vcr instead of throw...</td>\n",
       "      <td>टॉमने त्याचा जुना व्हीसीआर फेकून टाकण्याऐवजी व...</td>\n",
       "    </tr>\n",
       "    <tr>\n",
       "      <th>41026</th>\n",
       "      <td>you cannot view flash content on an ipad howev...</td>\n",
       "      <td>आयपॅडवर फ्लॅश आशय बघता येत नाही पण तुम्ही त्या...</td>\n",
       "    </tr>\n",
       "    <tr>\n",
       "      <th>41027</th>\n",
       "      <td>in  roger miller recorded a song called you do...</td>\n",
       "      <td>मध्ये रॉजर मिलरने यू डोन्ट वॉन्ट माय लव्ह नावा...</td>\n",
       "    </tr>\n",
       "  </tbody>\n",
       "</table>\n",
       "</div>"
      ],
      "text/plain": [
       "                                                 English                                            Marathi\n",
       "41023  just saying you do not like fish because of th...  हड्डींमुळे मासे आवडत नाही असं म्हणणं हे काय मा...\n",
       "41024  the japanese parliament today officially elect...  आज जपानी संसदेने अधिकृतरित्या र्‍यौतारौ हाशिमो...\n",
       "41025  tom tried to sell his old vcr instead of throw...  टॉमने त्याचा जुना व्हीसीआर फेकून टाकण्याऐवजी व...\n",
       "41026  you cannot view flash content on an ipad howev...  आयपॅडवर फ्लॅश आशय बघता येत नाही पण तुम्ही त्या...\n",
       "41027  in  roger miller recorded a song called you do...  मध्ये रॉजर मिलरने यू डोन्ट वॉन्ट माय लव्ह नावा..."
      ]
     },
     "execution_count": 4,
     "metadata": {
      "tags": []
     },
     "output_type": "execute_result"
    }
   ],
   "source": [
    "df.tail()"
   ]
  },
  {
   "cell_type": "markdown",
   "metadata": {
    "id": "18Xi--85VcLC"
   },
   "source": [
    "**Note-** this dataset was cleaned in notebook1 [here](https://github.com/AdiShirsath/Neural-Machine-Translation/blob/master/EDA_And_Cleaning_Text.ipynb)"
   ]
  },
  {
   "cell_type": "code",
   "execution_count": 5,
   "metadata": {
    "colab": {
     "base_uri": "https://localhost:8080/"
    },
    "id": "4WPRrY4kVX3P",
    "outputId": "5165c8f0-4c12-47f0-fdd6-1ec6403d933d"
   },
   "outputs": [
    {
     "name": "stdout",
     "output_type": "stream",
     "text": [
      "<class 'pandas.core.frame.DataFrame'>\n",
      "RangeIndex: 41028 entries, 0 to 41027\n",
      "Data columns (total 2 columns):\n",
      " #   Column   Non-Null Count  Dtype \n",
      "---  ------   --------------  ----- \n",
      " 0   English  41028 non-null  object\n",
      " 1   Marathi  41028 non-null  object\n",
      "dtypes: object(2)\n",
      "memory usage: 641.2+ KB\n"
     ]
    }
   ],
   "source": [
    "df.info()"
   ]
  },
  {
   "cell_type": "markdown",
   "metadata": {
    "id": "e2CeT9kZVYwR"
   },
   "source": [
    "### Add start and end tokens to target sentecnes\n",
    "* This helps model understand when sentence is started and ended\n",
    "* Beause of this decoder can handle diff length sentence than encoder"
   ]
  },
  {
   "cell_type": "code",
   "execution_count": 6,
   "metadata": {
    "id": "-ODudQ-HYRmw"
   },
   "outputs": [],
   "source": [
    "df['Marathi'] =df.Marathi.apply(lambda x: 'sos '+ x + ' eos')"
   ]
  },
  {
   "cell_type": "code",
   "execution_count": 7,
   "metadata": {
    "colab": {
     "base_uri": "https://localhost:8080/",
     "height": 204
    },
    "id": "fb8W9w_raLaX",
    "outputId": "a90008d3-8f55-4e40-9897-383bbead8960"
   },
   "outputs": [
    {
     "data": {
      "text/html": [
       "<div>\n",
       "<style scoped>\n",
       "    .dataframe tbody tr th:only-of-type {\n",
       "        vertical-align: middle;\n",
       "    }\n",
       "\n",
       "    .dataframe tbody tr th {\n",
       "        vertical-align: top;\n",
       "    }\n",
       "\n",
       "    .dataframe thead th {\n",
       "        text-align: right;\n",
       "    }\n",
       "</style>\n",
       "<table border=\"1\" class=\"dataframe\">\n",
       "  <thead>\n",
       "    <tr style=\"text-align: right;\">\n",
       "      <th></th>\n",
       "      <th>English</th>\n",
       "      <th>Marathi</th>\n",
       "    </tr>\n",
       "  </thead>\n",
       "  <tbody>\n",
       "    <tr>\n",
       "      <th>0</th>\n",
       "      <td>go</td>\n",
       "      <td>sos जा eos</td>\n",
       "    </tr>\n",
       "    <tr>\n",
       "      <th>1</th>\n",
       "      <td>run</td>\n",
       "      <td>sos पळ eos</td>\n",
       "    </tr>\n",
       "    <tr>\n",
       "      <th>2</th>\n",
       "      <td>run</td>\n",
       "      <td>sos धाव eos</td>\n",
       "    </tr>\n",
       "    <tr>\n",
       "      <th>3</th>\n",
       "      <td>run</td>\n",
       "      <td>sos पळा eos</td>\n",
       "    </tr>\n",
       "    <tr>\n",
       "      <th>4</th>\n",
       "      <td>run</td>\n",
       "      <td>sos धावा eos</td>\n",
       "    </tr>\n",
       "  </tbody>\n",
       "</table>\n",
       "</div>"
      ],
      "text/plain": [
       "  English       Marathi\n",
       "0      go    sos जा eos\n",
       "1     run    sos पळ eos\n",
       "2     run   sos धाव eos\n",
       "3     run   sos पळा eos\n",
       "4     run  sos धावा eos"
      ]
     },
     "execution_count": 7,
     "metadata": {
      "tags": []
     },
     "output_type": "execute_result"
    }
   ],
   "source": [
    "df.head()"
   ]
  },
  {
   "cell_type": "markdown",
   "metadata": {
    "id": "hdWz3i4mWhw7"
   },
   "source": [
    "##### Convert to list for tokenizer"
   ]
  },
  {
   "cell_type": "code",
   "execution_count": 8,
   "metadata": {
    "id": "e7uCHZ7iaM0W"
   },
   "outputs": [],
   "source": [
    "\n",
    "eng_texts = df.English.to_list()\n",
    "mar_texts = df.Marathi.to_list()"
   ]
  },
  {
   "cell_type": "markdown",
   "metadata": {
    "id": "8aNL83ChadVb"
   },
   "source": [
    "## Tokenizer\n",
    "* Converting into numbers"
   ]
  },
  {
   "cell_type": "code",
   "execution_count": 9,
   "metadata": {
    "id": "M9fg2-rjagoQ"
   },
   "outputs": [],
   "source": [
    "from tensorflow.keras.preprocessing.text import Tokenizer"
   ]
  },
  {
   "cell_type": "code",
   "execution_count": 10,
   "metadata": {
    "id": "pkQgPLI3ao0V"
   },
   "outputs": [],
   "source": [
    "def tokenize_sent(text):\n",
    "  '''\n",
    "  Take list on texts as input and \n",
    "  returns its tokenizer and enocded text\n",
    "  '''\n",
    "  tokenizer = Tokenizer()\n",
    "  tokenizer.fit_on_texts(text)\n",
    "\n",
    "  return tokenizer, tokenizer.texts_to_sequences(text)\n",
    "\n"
   ]
  },
  {
   "cell_type": "code",
   "execution_count": 11,
   "metadata": {
    "id": "tsLqMC61bKqV"
   },
   "outputs": [],
   "source": [
    "# Tokenize english and marathi sentences\n",
    "eng_tokenizer, eng_encoded= tokenize_sent(text= eng_texts)\n",
    "mar_tokenizer, mar_encoded= tokenize_sent(text= mar_texts)"
   ]
  },
  {
   "cell_type": "markdown",
   "metadata": {
    "id": "5MTy8BNgbjkn"
   },
   "source": [
    "#### English"
   ]
  },
  {
   "cell_type": "code",
   "execution_count": 12,
   "metadata": {
    "colab": {
     "base_uri": "https://localhost:8080/"
    },
    "id": "6e0kxonHbqcb",
    "outputId": "711ed0ca-4015-44aa-daf9-45df715c7e32"
   },
   "outputs": [
    {
     "data": {
      "text/plain": [
       "[[1, 26, 1541], [18, 3, 591], [18, 3, 21], [18, 3, 21], [21, 130]]"
      ]
     },
     "execution_count": 12,
     "metadata": {
      "tags": []
     },
     "output_type": "execute_result"
    }
   ],
   "source": [
    "eng_encoded[100:105]"
   ]
  },
  {
   "cell_type": "code",
   "execution_count": 13,
   "metadata": {
    "id": "SgcQY325bsr2"
   },
   "outputs": [],
   "source": [
    "eng_index_word = eng_tokenizer.index_word\n",
    "eng_word_indec= eng_tokenizer.word_index\n"
   ]
  },
  {
   "cell_type": "markdown",
   "metadata": {
    "id": "vykyXwUQW4Vc"
   },
   "source": [
    "### Get vocab size which will be needed next"
   ]
  },
  {
   "cell_type": "code",
   "execution_count": 14,
   "metadata": {
    "colab": {
     "base_uri": "https://localhost:8080/"
    },
    "id": "4DTU8OCub8M_",
    "outputId": "04960cab-0636-46e8-dd37-f02c83a63935"
   },
   "outputs": [
    {
     "data": {
      "text/plain": [
       "5641"
      ]
     },
     "execution_count": 14,
     "metadata": {
      "tags": []
     },
     "output_type": "execute_result"
    }
   ],
   "source": [
    "ENG_VOCAB_SIZE = len(eng_tokenizer.word_counts)+1\n",
    "ENG_VOCAB_SIZE"
   ]
  },
  {
   "cell_type": "markdown",
   "metadata": {
    "id": "1domCO8ocIhW"
   },
   "source": [
    "#### Mrathi"
   ]
  },
  {
   "cell_type": "code",
   "execution_count": 15,
   "metadata": {
    "colab": {
     "base_uri": "https://localhost:8080/"
    },
    "id": "PdPsaSYHcLJf",
    "outputId": "0881effa-2645-48e1-a31f-8c4c146f2a1f"
   },
   "outputs": [
    {
     "data": {
      "text/plain": [
       "[[1, 190, 17, 2954, 45, 2],\n",
       " [1, 10307, 10308, 5956, 381, 150, 2],\n",
       " [1, 80, 986, 13, 46, 51, 217, 2],\n",
       " [1, 121, 52, 187, 260, 596, 2],\n",
       " [1, 40, 52, 187, 260, 596, 2]]"
      ]
     },
     "execution_count": 15,
     "metadata": {
      "tags": []
     },
     "output_type": "execute_result"
    }
   ],
   "source": [
    "mar_encoded[30000:30005]"
   ]
  },
  {
   "cell_type": "code",
   "execution_count": 16,
   "metadata": {
    "id": "TwdkNIUOcND7"
   },
   "outputs": [],
   "source": [
    "mar_index_word = mar_tokenizer.index_word\n",
    "mar_word_index= mar_tokenizer.word_index\n"
   ]
  },
  {
   "cell_type": "code",
   "execution_count": 17,
   "metadata": {
    "colab": {
     "base_uri": "https://localhost:8080/"
    },
    "id": "zhQ2qcJ1cWLU",
    "outputId": "3c3ef998-b34a-43d8-dcbb-5f90aba064b8"
   },
   "outputs": [
    {
     "data": {
      "text/plain": [
       "13720"
      ]
     },
     "execution_count": 17,
     "metadata": {
      "tags": []
     },
     "output_type": "execute_result"
    }
   ],
   "source": [
    "MAR_VOCAB_SIZE=len(mar_tokenizer.word_counts)+1\n",
    "MAR_VOCAB_SIZE"
   ]
  },
  {
   "cell_type": "code",
   "execution_count": 18,
   "metadata": {
    "id": "faqGRJuYdHHX"
   },
   "outputs": [],
   "source": [
    "max_eng_len = 0\n",
    "for i in range(len(eng_encoded)):\n",
    "  if len(eng_encoded[i]) > max_eng_len:\n",
    "    max_eng_len= len(eng_encoded[i])\n",
    "\n",
    "max_mar_len = 0\n",
    "for i in range(len(mar_encoded)):\n",
    "  if len(eng_encoded[i]) > max_mar_len:\n",
    "    max_mar_len= len(mar_encoded[i])\n"
   ]
  },
  {
   "cell_type": "code",
   "execution_count": 19,
   "metadata": {
    "colab": {
     "base_uri": "https://localhost:8080/"
    },
    "id": "ua8cyluif43t",
    "outputId": "393a1470-dd4c-4f97-9045-e0926ae5338e"
   },
   "outputs": [
    {
     "name": "stdout",
     "output_type": "stream",
     "text": [
      "36\n"
     ]
    },
    {
     "data": {
      "text/plain": [
       "37"
      ]
     },
     "execution_count": 19,
     "metadata": {
      "tags": []
     },
     "output_type": "execute_result"
    }
   ],
   "source": [
    "print(max_eng_len)\n",
    "max_mar_len"
   ]
  },
  {
   "cell_type": "markdown",
   "metadata": {},
   "source": [
    "## Padding\n",
    "* Making input sentences as max length of input sentence with padding zero\n",
    "* Same for target make them as max length of target sentence."
   ]
  },
  {
   "cell_type": "code",
   "execution_count": 20,
   "metadata": {
    "id": "Tq0nJk0VcwNV"
   },
   "outputs": [],
   "source": [
    "from tensorflow.keras.preprocessing.sequence import pad_sequences"
   ]
  },
  {
   "cell_type": "code",
   "execution_count": 21,
   "metadata": {
    "id": "hxM5e1Xhc4oq"
   },
   "outputs": [],
   "source": [
    "eng_padded = pad_sequences(eng_encoded, maxlen=max_eng_len, padding='post')\n",
    "mar_padded = pad_sequences(mar_encoded, maxlen=max_mar_len, padding='post')\n"
   ]
  },
  {
   "cell_type": "code",
   "execution_count": 22,
   "metadata": {
    "colab": {
     "base_uri": "https://localhost:8080/"
    },
    "id": "cpWVO9ZUgQlK",
    "outputId": "57fe11de-a1aa-48bf-98a5-4f8e84806e19"
   },
   "outputs": [
    {
     "data": {
      "text/plain": [
       "array([[  38,    0,    0, ...,    0,    0,    0],\n",
       "       [ 399,    0,    0, ...,    0,    0,    0],\n",
       "       [ 399,    0,    0, ...,    0,    0,    0],\n",
       "       ...,\n",
       "       [   4,  359,    6, ...,    0,    0,    0],\n",
       "       [   2,   59, 2439, ...,    0,    0,    0],\n",
       "       [  10, 3875, 3876, ...,   13,  366,  634]], dtype=int32)"
      ]
     },
     "execution_count": 22,
     "metadata": {
      "tags": []
     },
     "output_type": "execute_result"
    }
   ],
   "source": [
    "eng_padded"
   ]
  },
  {
   "cell_type": "code",
   "execution_count": 23,
   "metadata": {
    "colab": {
     "base_uri": "https://localhost:8080/"
    },
    "id": "m_eCExefgTIu",
    "outputId": "627034f6-09bb-4c28-c95a-48f0303de34b"
   },
   "outputs": [
    {
     "data": {
      "text/plain": [
       "(41028, 37)"
      ]
     },
     "execution_count": 23,
     "metadata": {
      "tags": []
     },
     "output_type": "execute_result"
    }
   ],
   "source": [
    "mar_padded.shape"
   ]
  },
  {
   "cell_type": "markdown",
   "metadata": {},
   "source": [
    "##### Converting to array"
   ]
  },
  {
   "cell_type": "code",
   "execution_count": 24,
   "metadata": {
    "id": "v4a5Wg33ir55"
   },
   "outputs": [],
   "source": [
    "eng_padded= np.array(eng_padded)\n",
    "mar_padded= np.array(mar_padded)"
   ]
  },
  {
   "cell_type": "markdown",
   "metadata": {
    "id": "WY-cYJXTgVLu"
   },
   "source": [
    "## Train test split"
   ]
  },
  {
   "cell_type": "code",
   "execution_count": 25,
   "metadata": {
    "id": "PFDErgK3gogI"
   },
   "outputs": [],
   "source": [
    "from sklearn.model_selection import train_test_split"
   ]
  },
  {
   "cell_type": "code",
   "execution_count": 26,
   "metadata": {
    "id": "3Epi5UGEgr4i"
   },
   "outputs": [],
   "source": [
    "X_train, X_test, y_train, y_test = train_test_split(eng_padded, mar_padded, test_size=0.1, random_state=0)"
   ]
  },
  {
   "cell_type": "code",
   "execution_count": 27,
   "metadata": {
    "colab": {
     "base_uri": "https://localhost:8080/"
    },
    "id": "KnElMyebhESu",
    "outputId": "36684248-192d-4c7c-d886-0519c1ac18d8"
   },
   "outputs": [
    {
     "data": {
      "text/plain": [
       "((36925, 36), (4103, 36), (36925, 37), (4103, 37))"
      ]
     },
     "execution_count": 27,
     "metadata": {
      "tags": []
     },
     "output_type": "execute_result"
    }
   ],
   "source": [
    "X_train.shape, X_test.shape, y_train.shape, y_test.shape"
   ]
  },
  {
   "cell_type": "markdown",
   "metadata": {
    "id": "NUdmu0uljC8k"
   },
   "source": [
    "## Building Model "
   ]
  },
  {
   "cell_type": "code",
   "execution_count": 28,
   "metadata": {
    "id": "HnIJ_QjAne8c"
   },
   "outputs": [],
   "source": [
    "from tensorflow.keras.layers import Dense, LSTM, Bidirectional, Embedding, Concatenate, Dropout\n",
    "from tensorflow.keras import Input, Model"
   ]
  },
  {
   "cell_type": "code",
   "execution_count": null,
   "metadata": {},
   "outputs": [],
   "source": [
    "### Import attention layer"
   ]
  },
  {
   "cell_type": "code",
   "execution_count": null,
   "metadata": {},
   "outputs": [],
   "source": [
    "import tensorflow as tf\n",
    "import os\n",
    "from tensorflow.python.keras.layers import Layer\n",
    "from tensorflow.python.keras import backend as K"
   ]
  },
  {
   "cell_type": "code",
   "execution_count": 30,
   "metadata": {
    "id": "Flya0FO3mhsw"
   },
   "outputs": [],
   "source": [
    "from tensorflow.keras.layers import AdditiveAttention\n",
    "\n",
    "# Encoder \n",
    "\n",
    "encoder_inputs = Input(shape=(max_eng_len,)) \n",
    "enc_emb = Embedding(ENG_VOCAB_SIZE, 1024)(encoder_inputs)\n",
    "\n",
    "# Bidirectional lstm layer\n",
    "enc_lstm1 = Bidirectional(LSTM(256,return_sequences=True,return_state=True))\n",
    "encoder_outputs1, forw_state_h, forw_state_c, back_state_h, back_state_c = enc_lstm1(enc_emb)\n",
    "\n",
    "final_enc_h = Concatenate()([forw_state_h,back_state_h])\n",
    "final_enc_c = Concatenate()([forw_state_c,back_state_c])\n",
    "\n",
    "encoder_states =[final_enc_h, final_enc_c]\n",
    "\n",
    "# Set up the decoder. \n",
    "decoder_inputs = Input(shape=(None,)) \n",
    "dec_emb_layer = Embedding(MAR_VOCAB_SIZE, 1024) \n",
    "dec_emb = dec_emb_layer(decoder_inputs)\n",
    "#LSTM using encoder_states as initial state\n",
    "decoder_lstm = LSTM(512, return_sequences=True, return_state=True) \n",
    "decoder_outputs, _, _ = decoder_lstm(dec_emb, initial_state=encoder_states)\n",
    "\n",
    "#Attention Layer\n",
    "attention_layer = AttentionLayer()\n",
    "attention_result = AdditiveAttention(use_scale=True)([decoder_outputs, encoder_outputs1])\n",
    "\n",
    "#attention_result, attention_weights = attention_layer([encoder_outputs1, decoder_outputs])\n",
    "\n",
    "# Concat attention output and decoder LSTM output \n",
    "decoder_concat_input = Concatenate(axis=-1, name='concat_layer')([decoder_outputs, attention_result])\n",
    "\n",
    "#Dense layer\n",
    "decoder_dense = Dense(MAR_VOCAB_SIZE, activation='softmax')\n",
    "decoder_outputs = decoder_dense(decoder_concat_input)\n",
    "\n",
    "\n",
    "# Define the model\n",
    "model = Model([encoder_inputs, decoder_inputs], decoder_outputs) \n"
   ]
  },
  {
   "cell_type": "code",
   "execution_count": 31,
   "metadata": {
    "colab": {
     "base_uri": "https://localhost:8080/"
    },
    "id": "wK2_qfSjnVJe",
    "outputId": "81bb22ef-9650-4c4b-e82b-60242b8137fa"
   },
   "outputs": [
    {
     "name": "stdout",
     "output_type": "stream",
     "text": [
      "Model: \"model\"\n",
      "__________________________________________________________________________________________________\n",
      "Layer (type)                    Output Shape         Param #     Connected to                     \n",
      "==================================================================================================\n",
      "input_1 (InputLayer)            [(None, 36)]         0                                            \n",
      "__________________________________________________________________________________________________\n",
      "embedding (Embedding)           (None, 36, 1024)     5776384     input_1[0][0]                    \n",
      "__________________________________________________________________________________________________\n",
      "input_2 (InputLayer)            [(None, None)]       0                                            \n",
      "__________________________________________________________________________________________________\n",
      "bidirectional (Bidirectional)   [(None, 36, 512), (N 2623488     embedding[0][0]                  \n",
      "__________________________________________________________________________________________________\n",
      "embedding_1 (Embedding)         (None, None, 1024)   14049280    input_2[0][0]                    \n",
      "__________________________________________________________________________________________________\n",
      "concatenate (Concatenate)       (None, 512)          0           bidirectional[0][1]              \n",
      "                                                                 bidirectional[0][3]              \n",
      "__________________________________________________________________________________________________\n",
      "concatenate_1 (Concatenate)     (None, 512)          0           bidirectional[0][2]              \n",
      "                                                                 bidirectional[0][4]              \n",
      "__________________________________________________________________________________________________\n",
      "lstm_1 (LSTM)                   [(None, None, 512),  3147776     embedding_1[0][0]                \n",
      "                                                                 concatenate[0][0]                \n",
      "                                                                 concatenate_1[0][0]              \n",
      "__________________________________________________________________________________________________\n",
      "attention_layer (AttentionLayer ((None, None, 512),  524800      bidirectional[0][0]              \n",
      "                                                                 lstm_1[0][0]                     \n",
      "__________________________________________________________________________________________________\n",
      "concat_layer (Concatenate)      (None, None, 1024)   0           lstm_1[0][0]                     \n",
      "                                                                 attention_layer[0][0]            \n",
      "__________________________________________________________________________________________________\n",
      "dense (Dense)                   (None, None, 13720)  14063000    concat_layer[0][0]               \n",
      "==================================================================================================\n",
      "Total params: 40,184,728\n",
      "Trainable params: 40,184,728\n",
      "Non-trainable params: 0\n",
      "__________________________________________________________________________________________________\n"
     ]
    }
   ],
   "source": [
    "model.summary()\n"
   ]
  },
  {
   "cell_type": "code",
   "execution_count": 32,
   "metadata": {
    "colab": {
     "base_uri": "https://localhost:8080/",
     "height": 865
    },
    "id": "8-ts_tTWs04b",
    "outputId": "ceb2cb48-6463-498d-dc33-77cbcedd7f01"
   },
   "outputs": [
    {
     "data": {
      "image/png": "[encoded data removed]",
      "text/plain": [
       "<IPython.core.display.Image object>"
      ]
     },
     "execution_count": 32,
     "metadata": {
      "tags": []
     },
     "output_type": "execute_result"
    }
   ],
   "source": [
    "from tensorflow.keras.utils import plot_model\n",
    "plot_model(model,show_shapes=True)"
   ]
  },
  {
   "cell_type": "code",
   "execution_count": 33,
   "metadata": {
    "id": "lGEydF3rqkkO"
   },
   "outputs": [],
   "source": [
    "# Compile model\n",
    "model.compile(optimizer='adam', loss='sparse_categorical_crossentropy', metrics=['accuracy'])"
   ]
  },
  {
   "cell_type": "markdown",
   "metadata": {},
   "source": [
    "### Define callbacks"
   ]
  },
  {
   "cell_type": "code",
   "execution_count": 34,
   "metadata": {
    "id": "omcPVJNgDQo9"
   },
   "outputs": [],
   "source": [
    "from tensorflow.keras.callbacks import ModelCheckpoint, EarlyStopping\n",
    "\n",
    "checkpoint = ModelCheckpoint(\"model_checkpoints_model1/\", monitor='val_accuracy')\n",
    "\n",
    "early_stopping = EarlyStopping(monitor='val_accuracy', patience=5)\n",
    "\n",
    "callbacks_list = [checkpoint, early_stopping]"
   ]
  },
  {
   "cell_type": "code",
   "execution_count": 35,
   "metadata": {
    "id": "AwuDY-JDDNCO"
   },
   "outputs": [],
   "source": [
    "# Training\n",
    "encoder_input_data = X_train\n",
    "# To make same as target data skip last number which is just padding\n",
    "decoder_input_data = y_train[:,:-1]\n",
    "# Decoder target data has to be one step ahead so we are taking from 1 as told in keras docs\n",
    "decoder_target_data =  y_train[:,1:]\n",
    "\n",
    "# Testing\n",
    "encoder_input_test = X_test\n",
    "decoder_input_test = y_test[:,:-1]\n",
    "decoder_target_test=  y_test[:,1:]"
   ]
  },
  {
   "cell_type": "code",
   "execution_count": 36,
   "metadata": {
    "id": "IAYaw0ZADncg"
   },
   "outputs": [],
   "source": [
    "EPOCHS= 50 #@param {type:'slider',min:10,max:100, step:10 }"
   ]
  },
  {
   "cell_type": "code",
   "execution_count": 37,
   "metadata": {
    "colab": {
     "base_uri": "https://localhost:8080/"
    },
    "id": "0WdaK3nl0qKl",
    "outputId": "e6ae608b-409f-4848-9999-476df96d249f"
   },
   "outputs": [
    {
     "name": "stdout",
     "output_type": "stream",
     "text": [
      "Epoch 1/50\n",
      "289/289 [==============================] - 150s 482ms/step - loss: 1.0627 - accuracy: 0.8686 - val_loss: 0.8411 - val_accuracy: 0.8797\n"
     ]
    },
    {
     "name": "stderr",
     "output_type": "stream",
     "text": [
      "WARNING:absl:Found untraced functions such as lstm_cell_3_layer_call_and_return_conditional_losses, lstm_cell_3_layer_call_fn, lstm_cell_1_layer_call_and_return_conditional_losses, lstm_cell_1_layer_call_fn, lstm_cell_2_layer_call_and_return_conditional_losses while saving (showing 5 of 15). These functions will not be directly callable after loading.\n"
     ]
    },
    {
     "name": "stdout",
     "output_type": "stream",
     "text": [
      "INFO:tensorflow:Assets written to: /content/drive/MyDrive/ML/rnn/Machine_Translation/Attention/model_checkpoints/model1/assets\n"
     ]
    },
    {
     "name": "stderr",
     "output_type": "stream",
     "text": [
      "INFO:tensorflow:Assets written to: /content/drive/MyDrive/ML/rnn/Machine_Translation/Attention/model_checkpoints/model1/assets\n"
     ]
    },
    {
     "name": "stdout",
     "output_type": "stream",
     "text": [
      "Epoch 2/50\n",
      "289/289 [==============================] - 141s 488ms/step - loss: 0.7471 - accuracy: 0.8892 - val_loss: 0.6853 - val_accuracy: 0.8962\n"
     ]
    },
    {
     "name": "stderr",
     "output_type": "stream",
     "text": [
      "WARNING:absl:Found untraced functions such as lstm_cell_3_layer_call_and_return_conditional_losses, lstm_cell_3_layer_call_fn, lstm_cell_1_layer_call_and_return_conditional_losses, lstm_cell_1_layer_call_fn, lstm_cell_2_layer_call_and_return_conditional_losses while saving (showing 5 of 15). These functions will not be directly callable after loading.\n"
     ]
    },
    {
     "name": "stdout",
     "output_type": "stream",
     "text": [
      "INFO:tensorflow:Assets written to: /content/drive/MyDrive/ML/rnn/Machine_Translation/Attention/model_checkpoints/model1/assets\n"
     ]
    },
    {
     "name": "stderr",
     "output_type": "stream",
     "text": [
      "INFO:tensorflow:Assets written to: /content/drive/MyDrive/ML/rnn/Machine_Translation/Attention/model_checkpoints/model1/assets\n"
     ]
    },
    {
     "name": "stdout",
     "output_type": "stream",
     "text": [
      "Epoch 3/50\n",
      "289/289 [==============================] - 142s 490ms/step - loss: 0.5679 - accuracy: 0.9072 - val_loss: 0.5365 - val_accuracy: 0.9135\n"
     ]
    },
    {
     "name": "stderr",
     "output_type": "stream",
     "text": [
      "WARNING:absl:Found untraced functions such as lstm_cell_3_layer_call_and_return_conditional_losses, lstm_cell_3_layer_call_fn, lstm_cell_1_layer_call_and_return_conditional_losses, lstm_cell_1_layer_call_fn, lstm_cell_2_layer_call_and_return_conditional_losses while saving (showing 5 of 15). These functions will not be directly callable after loading.\n"
     ]
    },
    {
     "name": "stdout",
     "output_type": "stream",
     "text": [
      "INFO:tensorflow:Assets written to: /content/drive/MyDrive/ML/rnn/Machine_Translation/Attention/model_checkpoints/model1/assets\n"
     ]
    },
    {
     "name": "stderr",
     "output_type": "stream",
     "text": [
      "INFO:tensorflow:Assets written to: /content/drive/MyDrive/ML/rnn/Machine_Translation/Attention/model_checkpoints/model1/assets\n"
     ]
    },
    {
     "name": "stdout",
     "output_type": "stream",
     "text": [
      "Epoch 4/50\n",
      "289/289 [==============================] - 142s 491ms/step - loss: 0.3994 - accuracy: 0.9261 - val_loss: 0.4285 - val_accuracy: 0.9273\n"
     ]
    },
    {
     "name": "stderr",
     "output_type": "stream",
     "text": [
      "WARNING:absl:Found untraced functions such as lstm_cell_3_layer_call_and_return_conditional_losses, lstm_cell_3_layer_call_fn, lstm_cell_1_layer_call_and_return_conditional_losses, lstm_cell_1_layer_call_fn, lstm_cell_2_layer_call_and_return_conditional_losses while saving (showing 5 of 15). These functions will not be directly callable after loading.\n"
     ]
    },
    {
     "name": "stdout",
     "output_type": "stream",
     "text": [
      "INFO:tensorflow:Assets written to: /content/drive/MyDrive/ML/rnn/Machine_Translation/Attention/model_checkpoints/model1/assets\n"
     ]
    },
    {
     "name": "stderr",
     "output_type": "stream",
     "text": [
      "INFO:tensorflow:Assets written to: /content/drive/MyDrive/ML/rnn/Machine_Translation/Attention/model_checkpoints/model1/assets\n"
     ]
    },
    {
     "name": "stdout",
     "output_type": "stream",
     "text": [
      "Epoch 5/50\n",
      "289/289 [==============================] - 143s 494ms/step - loss: 0.2692 - accuracy: 0.9428 - val_loss: 0.3683 - val_accuracy: 0.9369\n"
     ]
    },
    {
     "name": "stderr",
     "output_type": "stream",
     "text": [
      "WARNING:absl:Found untraced functions such as lstm_cell_3_layer_call_and_return_conditional_losses, lstm_cell_3_layer_call_fn, lstm_cell_1_layer_call_and_return_conditional_losses, lstm_cell_1_layer_call_fn, lstm_cell_2_layer_call_and_return_conditional_losses while saving (showing 5 of 15). These functions will not be directly callable after loading.\n"
     ]
    },
    {
     "name": "stdout",
     "output_type": "stream",
     "text": [
      "INFO:tensorflow:Assets written to: /content/drive/MyDrive/ML/rnn/Machine_Translation/Attention/model_checkpoints/model1/assets\n"
     ]
    },
    {
     "name": "stderr",
     "output_type": "stream",
     "text": [
      "INFO:tensorflow:Assets written to: /content/drive/MyDrive/ML/rnn/Machine_Translation/Attention/model_checkpoints/model1/assets\n"
     ]
    },
    {
     "name": "stdout",
     "output_type": "stream",
     "text": [
      "Epoch 6/50\n",
      "289/289 [==============================] - 143s 494ms/step - loss: 0.1815 - accuracy: 0.9565 - val_loss: 0.3385 - val_accuracy: 0.9422\n"
     ]
    },
    {
     "name": "stderr",
     "output_type": "stream",
     "text": [
      "WARNING:absl:Found untraced functions such as lstm_cell_3_layer_call_and_return_conditional_losses, lstm_cell_3_layer_call_fn, lstm_cell_1_layer_call_and_return_conditional_losses, lstm_cell_1_layer_call_fn, lstm_cell_2_layer_call_and_return_conditional_losses while saving (showing 5 of 15). These functions will not be directly callable after loading.\n"
     ]
    },
    {
     "name": "stdout",
     "output_type": "stream",
     "text": [
      "INFO:tensorflow:Assets written to: /content/drive/MyDrive/ML/rnn/Machine_Translation/Attention/model_checkpoints/model1/assets\n"
     ]
    },
    {
     "name": "stderr",
     "output_type": "stream",
     "text": [
      "INFO:tensorflow:Assets written to: /content/drive/MyDrive/ML/rnn/Machine_Translation/Attention/model_checkpoints/model1/assets\n"
     ]
    },
    {
     "name": "stdout",
     "output_type": "stream",
     "text": [
      "Epoch 7/50\n",
      "289/289 [==============================] - 143s 494ms/step - loss: 0.1283 - accuracy: 0.9667 - val_loss: 0.3239 - val_accuracy: 0.9459\n"
     ]
    },
    {
     "name": "stderr",
     "output_type": "stream",
     "text": [
      "WARNING:absl:Found untraced functions such as lstm_cell_3_layer_call_and_return_conditional_losses, lstm_cell_3_layer_call_fn, lstm_cell_1_layer_call_and_return_conditional_losses, lstm_cell_1_layer_call_fn, lstm_cell_2_layer_call_and_return_conditional_losses while saving (showing 5 of 15). These functions will not be directly callable after loading.\n"
     ]
    },
    {
     "name": "stdout",
     "output_type": "stream",
     "text": [
      "INFO:tensorflow:Assets written to: /content/drive/MyDrive/ML/rnn/Machine_Translation/Attention/model_checkpoints/model1/assets\n"
     ]
    },
    {
     "name": "stderr",
     "output_type": "stream",
     "text": [
      "INFO:tensorflow:Assets written to: /content/drive/MyDrive/ML/rnn/Machine_Translation/Attention/model_checkpoints/model1/assets\n"
     ]
    },
    {
     "name": "stdout",
     "output_type": "stream",
     "text": [
      "Epoch 8/50\n",
      "289/289 [==============================] - 146s 504ms/step - loss: 0.0967 - accuracy: 0.9732 - val_loss: 0.3161 - val_accuracy: 0.9477\n"
     ]
    },
    {
     "name": "stderr",
     "output_type": "stream",
     "text": [
      "WARNING:absl:Found untraced functions such as lstm_cell_3_layer_call_and_return_conditional_losses, lstm_cell_3_layer_call_fn, lstm_cell_1_layer_call_and_return_conditional_losses, lstm_cell_1_layer_call_fn, lstm_cell_2_layer_call_and_return_conditional_losses while saving (showing 5 of 15). These functions will not be directly callable after loading.\n"
     ]
    },
    {
     "name": "stdout",
     "output_type": "stream",
     "text": [
      "INFO:tensorflow:Assets written to: /content/drive/MyDrive/ML/rnn/Machine_Translation/Attention/model_checkpoints/model1/assets\n"
     ]
    },
    {
     "name": "stderr",
     "output_type": "stream",
     "text": [
      "INFO:tensorflow:Assets written to: /content/drive/MyDrive/ML/rnn/Machine_Translation/Attention/model_checkpoints/model1/assets\n"
     ]
    },
    {
     "name": "stdout",
     "output_type": "stream",
     "text": [
      "Epoch 9/50\n",
      "289/289 [==============================] - 146s 507ms/step - loss: 0.0777 - accuracy: 0.9776 - val_loss: 0.3147 - val_accuracy: 0.9487\n"
     ]
    },
    {
     "name": "stderr",
     "output_type": "stream",
     "text": [
      "WARNING:absl:Found untraced functions such as lstm_cell_3_layer_call_and_return_conditional_losses, lstm_cell_3_layer_call_fn, lstm_cell_1_layer_call_and_return_conditional_losses, lstm_cell_1_layer_call_fn, lstm_cell_2_layer_call_and_return_conditional_losses while saving (showing 5 of 15). These functions will not be directly callable after loading.\n"
     ]
    },
    {
     "name": "stdout",
     "output_type": "stream",
     "text": [
      "INFO:tensorflow:Assets written to: /content/drive/MyDrive/ML/rnn/Machine_Translation/Attention/model_checkpoints/model1/assets\n"
     ]
    },
    {
     "name": "stderr",
     "output_type": "stream",
     "text": [
      "INFO:tensorflow:Assets written to: /content/drive/MyDrive/ML/rnn/Machine_Translation/Attention/model_checkpoints/model1/assets\n"
     ]
    },
    {
     "name": "stdout",
     "output_type": "stream",
     "text": [
      "Epoch 10/50\n",
      "289/289 [==============================] - 144s 498ms/step - loss: 0.0652 - accuracy: 0.9802 - val_loss: 0.3156 - val_accuracy: 0.9490\n"
     ]
    },
    {
     "name": "stderr",
     "output_type": "stream",
     "text": [
      "WARNING:absl:Found untraced functions such as lstm_cell_3_layer_call_and_return_conditional_losses, lstm_cell_3_layer_call_fn, lstm_cell_1_layer_call_and_return_conditional_losses, lstm_cell_1_layer_call_fn, lstm_cell_2_layer_call_and_return_conditional_losses while saving (showing 5 of 15). These functions will not be directly callable after loading.\n"
     ]
    },
    {
     "name": "stdout",
     "output_type": "stream",
     "text": [
      "INFO:tensorflow:Assets written to: /content/drive/MyDrive/ML/rnn/Machine_Translation/Attention/model_checkpoints/model1/assets\n"
     ]
    },
    {
     "name": "stderr",
     "output_type": "stream",
     "text": [
      "INFO:tensorflow:Assets written to: /content/drive/MyDrive/ML/rnn/Machine_Translation/Attention/model_checkpoints/model1/assets\n"
     ]
    },
    {
     "name": "stdout",
     "output_type": "stream",
     "text": [
      "Epoch 11/50\n",
      "289/289 [==============================] - 144s 500ms/step - loss: 0.0565 - accuracy: 0.9822 - val_loss: 0.3151 - val_accuracy: 0.9505\n"
     ]
    },
    {
     "name": "stderr",
     "output_type": "stream",
     "text": [
      "WARNING:absl:Found untraced functions such as lstm_cell_3_layer_call_and_return_conditional_losses, lstm_cell_3_layer_call_fn, lstm_cell_1_layer_call_and_return_conditional_losses, lstm_cell_1_layer_call_fn, lstm_cell_2_layer_call_and_return_conditional_losses while saving (showing 5 of 15). These functions will not be directly callable after loading.\n"
     ]
    },
    {
     "name": "stdout",
     "output_type": "stream",
     "text": [
      "INFO:tensorflow:Assets written to: /content/drive/MyDrive/ML/rnn/Machine_Translation/Attention/model_checkpoints/model1/assets\n"
     ]
    },
    {
     "name": "stderr",
     "output_type": "stream",
     "text": [
      "INFO:tensorflow:Assets written to: /content/drive/MyDrive/ML/rnn/Machine_Translation/Attention/model_checkpoints/model1/assets\n"
     ]
    },
    {
     "name": "stdout",
     "output_type": "stream",
     "text": [
      "Epoch 12/50\n",
      "289/289 [==============================] - 145s 501ms/step - loss: 0.0508 - accuracy: 0.9834 - val_loss: 0.3184 - val_accuracy: 0.9505\n"
     ]
    },
    {
     "name": "stderr",
     "output_type": "stream",
     "text": [
      "WARNING:absl:Found untraced functions such as lstm_cell_3_layer_call_and_return_conditional_losses, lstm_cell_3_layer_call_fn, lstm_cell_1_layer_call_and_return_conditional_losses, lstm_cell_1_layer_call_fn, lstm_cell_2_layer_call_and_return_conditional_losses while saving (showing 5 of 15). These functions will not be directly callable after loading.\n"
     ]
    },
    {
     "name": "stdout",
     "output_type": "stream",
     "text": [
      "INFO:tensorflow:Assets written to: /content/drive/MyDrive/ML/rnn/Machine_Translation/Attention/model_checkpoints/model1/assets\n"
     ]
    },
    {
     "name": "stderr",
     "output_type": "stream",
     "text": [
      "INFO:tensorflow:Assets written to: /content/drive/MyDrive/ML/rnn/Machine_Translation/Attention/model_checkpoints/model1/assets\n"
     ]
    },
    {
     "name": "stdout",
     "output_type": "stream",
     "text": [
      "Epoch 13/50\n",
      "289/289 [==============================] - 145s 501ms/step - loss: 0.0465 - accuracy: 0.9844 - val_loss: 0.3211 - val_accuracy: 0.9504\n"
     ]
    },
    {
     "name": "stderr",
     "output_type": "stream",
     "text": [
      "WARNING:absl:Found untraced functions such as lstm_cell_3_layer_call_and_return_conditional_losses, lstm_cell_3_layer_call_fn, lstm_cell_1_layer_call_and_return_conditional_losses, lstm_cell_1_layer_call_fn, lstm_cell_2_layer_call_and_return_conditional_losses while saving (showing 5 of 15). These functions will not be directly callable after loading.\n"
     ]
    },
    {
     "name": "stdout",
     "output_type": "stream",
     "text": [
      "INFO:tensorflow:Assets written to: /content/drive/MyDrive/ML/rnn/Machine_Translation/Attention/model_checkpoints/model1/assets\n"
     ]
    },
    {
     "name": "stderr",
     "output_type": "stream",
     "text": [
      "INFO:tensorflow:Assets written to: /content/drive/MyDrive/ML/rnn/Machine_Translation/Attention/model_checkpoints/model1/assets\n"
     ]
    },
    {
     "name": "stdout",
     "output_type": "stream",
     "text": [
      "Epoch 14/50\n",
      "289/289 [==============================] - 145s 501ms/step - loss: 0.0438 - accuracy: 0.9851 - val_loss: 0.3221 - val_accuracy: 0.9506\n"
     ]
    },
    {
     "name": "stderr",
     "output_type": "stream",
     "text": [
      "WARNING:absl:Found untraced functions such as lstm_cell_3_layer_call_and_return_conditional_losses, lstm_cell_3_layer_call_fn, lstm_cell_1_layer_call_and_return_conditional_losses, lstm_cell_1_layer_call_fn, lstm_cell_2_layer_call_and_return_conditional_losses while saving (showing 5 of 15). These functions will not be directly callable after loading.\n"
     ]
    },
    {
     "name": "stdout",
     "output_type": "stream",
     "text": [
      "INFO:tensorflow:Assets written to: /content/drive/MyDrive/ML/rnn/Machine_Translation/Attention/model_checkpoints/model1/assets\n"
     ]
    },
    {
     "name": "stderr",
     "output_type": "stream",
     "text": [
      "INFO:tensorflow:Assets written to: /content/drive/MyDrive/ML/rnn/Machine_Translation/Attention/model_checkpoints/model1/assets\n"
     ]
    },
    {
     "name": "stdout",
     "output_type": "stream",
     "text": [
      "Epoch 15/50\n",
      "289/289 [==============================] - 145s 500ms/step - loss: 0.0418 - accuracy: 0.9854 - val_loss: 0.3228 - val_accuracy: 0.9500\n"
     ]
    },
    {
     "name": "stderr",
     "output_type": "stream",
     "text": [
      "WARNING:absl:Found untraced functions such as lstm_cell_3_layer_call_and_return_conditional_losses, lstm_cell_3_layer_call_fn, lstm_cell_1_layer_call_and_return_conditional_losses, lstm_cell_1_layer_call_fn, lstm_cell_2_layer_call_and_return_conditional_losses while saving (showing 5 of 15). These functions will not be directly callable after loading.\n"
     ]
    },
    {
     "name": "stdout",
     "output_type": "stream",
     "text": [
      "INFO:tensorflow:Assets written to: /content/drive/MyDrive/ML/rnn/Machine_Translation/Attention/model_checkpoints/model1/assets\n"
     ]
    },
    {
     "name": "stderr",
     "output_type": "stream",
     "text": [
      "INFO:tensorflow:Assets written to: /content/drive/MyDrive/ML/rnn/Machine_Translation/Attention/model_checkpoints/model1/assets\n"
     ]
    },
    {
     "name": "stdout",
     "output_type": "stream",
     "text": [
      "Epoch 16/50\n",
      "289/289 [==============================] - 144s 499ms/step - loss: 0.0397 - accuracy: 0.9858 - val_loss: 0.3254 - val_accuracy: 0.9503\n"
     ]
    },
    {
     "name": "stderr",
     "output_type": "stream",
     "text": [
      "WARNING:absl:Found untraced functions such as lstm_cell_3_layer_call_and_return_conditional_losses, lstm_cell_3_layer_call_fn, lstm_cell_1_layer_call_and_return_conditional_losses, lstm_cell_1_layer_call_fn, lstm_cell_2_layer_call_and_return_conditional_losses while saving (showing 5 of 15). These functions will not be directly callable after loading.\n"
     ]
    },
    {
     "name": "stdout",
     "output_type": "stream",
     "text": [
      "INFO:tensorflow:Assets written to: /content/drive/MyDrive/ML/rnn/Machine_Translation/Attention/model_checkpoints/model1/assets\n"
     ]
    },
    {
     "name": "stderr",
     "output_type": "stream",
     "text": [
      "INFO:tensorflow:Assets written to: /content/drive/MyDrive/ML/rnn/Machine_Translation/Attention/model_checkpoints/model1/assets\n"
     ]
    },
    {
     "name": "stdout",
     "output_type": "stream",
     "text": [
      "Epoch 17/50\n",
      "289/289 [==============================] - 144s 497ms/step - loss: 0.0385 - accuracy: 0.9860 - val_loss: 0.3286 - val_accuracy: 0.9503\n"
     ]
    },
    {
     "name": "stderr",
     "output_type": "stream",
     "text": [
      "WARNING:absl:Found untraced functions such as lstm_cell_3_layer_call_and_return_conditional_losses, lstm_cell_3_layer_call_fn, lstm_cell_1_layer_call_and_return_conditional_losses, lstm_cell_1_layer_call_fn, lstm_cell_2_layer_call_and_return_conditional_losses while saving (showing 5 of 15). These functions will not be directly callable after loading.\n"
     ]
    },
    {
     "name": "stdout",
     "output_type": "stream",
     "text": [
      "INFO:tensorflow:Assets written to: /content/drive/MyDrive/ML/rnn/Machine_Translation/Attention/model_checkpoints/model1/assets\n"
     ]
    },
    {
     "name": "stderr",
     "output_type": "stream",
     "text": [
      "INFO:tensorflow:Assets written to: /content/drive/MyDrive/ML/rnn/Machine_Translation/Attention/model_checkpoints/model1/assets\n"
     ]
    },
    {
     "name": "stdout",
     "output_type": "stream",
     "text": [
      "Epoch 18/50\n",
      "289/289 [==============================] - 144s 498ms/step - loss: 0.0377 - accuracy: 0.9863 - val_loss: 0.3284 - val_accuracy: 0.9502\n"
     ]
    },
    {
     "name": "stderr",
     "output_type": "stream",
     "text": [
      "WARNING:absl:Found untraced functions such as lstm_cell_3_layer_call_and_return_conditional_losses, lstm_cell_3_layer_call_fn, lstm_cell_1_layer_call_and_return_conditional_losses, lstm_cell_1_layer_call_fn, lstm_cell_2_layer_call_and_return_conditional_losses while saving (showing 5 of 15). These functions will not be directly callable after loading.\n"
     ]
    },
    {
     "name": "stdout",
     "output_type": "stream",
     "text": [
      "INFO:tensorflow:Assets written to: /content/drive/MyDrive/ML/rnn/Machine_Translation/Attention/model_checkpoints/model1/assets\n"
     ]
    },
    {
     "name": "stderr",
     "output_type": "stream",
     "text": [
      "INFO:tensorflow:Assets written to: /content/drive/MyDrive/ML/rnn/Machine_Translation/Attention/model_checkpoints/model1/assets\n"
     ]
    },
    {
     "name": "stdout",
     "output_type": "stream",
     "text": [
      "Epoch 19/50\n",
      "289/289 [==============================] - 144s 498ms/step - loss: 0.0370 - accuracy: 0.9863 - val_loss: 0.3290 - val_accuracy: 0.9504\n"
     ]
    },
    {
     "name": "stderr",
     "output_type": "stream",
     "text": [
      "WARNING:absl:Found untraced functions such as lstm_cell_3_layer_call_and_return_conditional_losses, lstm_cell_3_layer_call_fn, lstm_cell_1_layer_call_and_return_conditional_losses, lstm_cell_1_layer_call_fn, lstm_cell_2_layer_call_and_return_conditional_losses while saving (showing 5 of 15). These functions will not be directly callable after loading.\n"
     ]
    },
    {
     "name": "stdout",
     "output_type": "stream",
     "text": [
      "INFO:tensorflow:Assets written to: /content/drive/MyDrive/ML/rnn/Machine_Translation/Attention/model_checkpoints/model1/assets\n"
     ]
    },
    {
     "name": "stderr",
     "output_type": "stream",
     "text": [
      "INFO:tensorflow:Assets written to: /content/drive/MyDrive/ML/rnn/Machine_Translation/Attention/model_checkpoints/model1/assets\n"
     ]
    }
   ],
   "source": [
    "history = model.fit([encoder_input_data, decoder_input_data],decoder_target_data, \n",
    "                    epochs=EPOCHS, \n",
    "                    batch_size=128,\n",
    "                    validation_data = ([encoder_input_test, decoder_input_test],decoder_target_test),\n",
    "                    callbacks= callbacks_list)"
   ]
  },
  {
   "cell_type": "markdown",
   "metadata": {},
   "source": [
    "#### Saving weights is very important if ypu dont after colab session ends you might have to retrain model "
   ]
  },
  {
   "cell_type": "code",
   "execution_count": 39,
   "metadata": {
    "id": "rqAok2O-_djF"
   },
   "outputs": [],
   "source": [
    "model.save_weights(\"saved_model/model1.h5\")"
   ]
  },
  {
   "cell_type": "markdown",
   "metadata": {
    "id": "O1BqA8MrTJAz"
   },
   "source": [
    "#### After saving weight you can restart colab session without GPU \n",
    "Create model and\n",
    "load model"
   ]
  },
  {
   "cell_type": "code",
   "execution_count": 34,
   "metadata": {
    "id": "BzijkGt8_L17"
   },
   "outputs": [],
   "source": [
    "model.load_weights(\"saved_model/model1.h5\")"
   ]
  },
  {
   "cell_type": "markdown",
   "metadata": {},
   "source": [
    "## Inference model\n",
    "* For prediction we have to do this was because we trained encoder on input and decoder on target differently so we'll have to do same for prediction"
   ]
  },
  {
   "cell_type": "code",
   "execution_count": 35,
   "metadata": {
    "id": "WpsF3j1FRNS3"
   },
   "outputs": [],
   "source": [
    "encoder_model = Model(encoder_inputs, outputs = [encoder_outputs1, final_enc_h, final_enc_c])\n",
    "\n",
    "decoder_state_h = Input(shape=(512,))\n",
    "decoder_state_c = Input(shape=(512,))\n",
    "decoder_hidden_state_input = Input(shape=(36,512))\n",
    "\n",
    "dec_states = [decoder_state_h, decoder_state_c]\n",
    "\n",
    "dec_emb2 = dec_emb_layer(decoder_inputs)\n",
    "\n",
    "decoder_outputs2, state_h2, state_c2 = decoder_lstm(dec_emb2, initial_state=dec_states)\n",
    "\n",
    "# Attention inference\n",
    "attention_result_inf = AdditiveAttention(use_scale=True)([decoder_outputs2, decoder_hidden_state_input])\n",
    "\n",
    "#attention_result_inf, attention_weights_inf = attention_layer([decoder_hidden_state_input, decoder_outputs2])\n",
    "\n",
    "decoder_concat_input_inf = Concatenate(axis=-1, name='concat_layer')([decoder_outputs2, attention_result_inf])\n",
    "\n",
    "dec_states2= [state_h2, state_c2]\n",
    "\n",
    "decoder_outputs2 = decoder_dense(decoder_concat_input_inf)\n",
    "\n",
    "decoder_model= Model(\n",
    "                    [decoder_inputs] + [decoder_hidden_state_input, decoder_state_h, decoder_state_c],\n",
    "                     [decoder_outputs2]+ dec_states2)"
   ]
  },
  {
   "cell_type": "markdown",
   "metadata": {},
   "source": [
    "### Model will predict numbers and word at time so we'll have to convert them to words of language "
   ]
  },
  {
   "cell_type": "code",
   "execution_count": 36,
   "metadata": {
    "id": "ufg6mvC4Uq18"
   },
   "outputs": [],
   "source": [
    "def get_predicted_sentence(input_seq):\n",
    "    # Encode the input as state vectors.\n",
    "    enc_output, enc_h, enc_c = encoder_model.predict(input_seq)\n",
    "  \n",
    "    # Generate empty target sequence of length 1.\n",
    "    target_seq = np.zeros((1,1))\n",
    "    \n",
    "    # Populate the first character of target sequence with the start character.\n",
    "    target_seq[0, 0] = mar_word_index['sos']\n",
    "    \n",
    "    # Sampling loop for a batch of sequences\n",
    "    # (to simplify, here we assume a batch of size 1).\n",
    "    stop_condition = False\n",
    "    decoded_sentence = ''\n",
    "    \n",
    "    while not stop_condition:\n",
    "        output_tokens, h, c = decoder_model.predict([target_seq] + [enc_output, enc_h, enc_c ])\n",
    "        # Sample a token\n",
    "        sampled_token_index = np.argmax(output_tokens[0, -1, :])\n",
    "        if sampled_token_index == 0:\n",
    "          break\n",
    "        else:\n",
    "            # convert max index number to marathi word\n",
    "            sampled_char = mar_index_word[sampled_token_index]\n",
    "\n",
    "        if (sampled_char!='end'):\n",
    "            # aapend it ti decoded sent\n",
    "            decoded_sentence += ' '+sampled_char\n",
    "        \n",
    "        # Exit condition: either hit max length or find stop token.\n",
    "        if (sampled_char == 'eos' or len(decoded_sentence.split()) >= 36):\n",
    "            stop_condition = True\n",
    "        \n",
    "        # Update the target sequence (of length 1).\n",
    "        target_seq = np.zeros((1,1))\n",
    "        target_seq[0, 0] = sampled_token_index\n",
    "        \n",
    "        # Update states\n",
    "        enc_h, enc_c = h, c\n",
    "    \n",
    "    return decoded_sentence"
   ]
  },
  {
   "cell_type": "markdown",
   "metadata": {
    "id": "mRp6YilMB2bD"
   },
   "source": [
    "## Converting x and y back to words-sentences"
   ]
  },
  {
   "cell_type": "code",
   "execution_count": 37,
   "metadata": {
    "id": "yClNK6ZWWabv"
   },
   "outputs": [],
   "source": [
    "def get_marathi_sentence(input_sequence):\n",
    "    sentence =''\n",
    "    for i in input_sequence:\n",
    "      if i!=0 :\n",
    "        sentence =sentence +mar_index_word[i]+' '\n",
    "    return sentence \n",
    "\n",
    "def get_english_sentence(input_sequence):\n",
    "    sentence =''\n",
    "    for i in input_sequence:\n",
    "      if i!=0:\n",
    "        sentence =sentence +eng_index_word[i]+' '\n",
    "    return sentence     "
   ]
  },
  {
   "cell_type": "markdown",
   "metadata": {
    "id": "oMYdZ3VMUWDE"
   },
   "source": [
    "# Model results"
   ]
  },
  {
   "cell_type": "code",
   "execution_count": 46,
   "metadata": {
    "colab": {
     "base_uri": "https://localhost:8080/"
    },
    "id": "sF-zWG3TDC1F",
    "outputId": "5aa29541-14f6-4005-ec91-b81925dbb733"
   },
   "outputs": [
    {
     "data": {
      "text/plain": [
       "4103"
      ]
     },
     "execution_count": 46,
     "metadata": {
      "tags": []
     },
     "output_type": "execute_result"
    }
   ],
   "source": [
    "len(X_test)"
   ]
  },
  {
   "cell_type": "markdown",
   "metadata": {},
   "source": [
    "#### Using simple loop we will take random 15 numbers from x_test and get results\n"
   ]
  },
  {
   "cell_type": "code",
   "execution_count": 59,
   "metadata": {
    "colab": {
     "base_uri": "https://localhost:8080/"
    },
    "id": "luOMusMsWfKk",
    "outputId": "a5fb12c9-356b-43b4-9541-e299d9772079"
   },
   "outputs": [
    {
     "name": "stdout",
     "output_type": "stream",
     "text": [
      "English Sentence: do i look fat in this dress \n",
      "Actual Marathi Sentence: मी हा ड्रेस घालून जाडी दिसते का \n",
      "Predicted Marathi Translation:  मी हा ड्रेस घालून जाडा दिसतो का\n",
      "----------------------------------------------------------------------------------------\n",
      "English Sentence: his father calls him tom \n",
      "Actual Marathi Sentence: त्यांचे वडील त्याला टॉम म्हणून हाक मारतात \n",
      "Predicted Marathi Translation:  त्याचे वडील त्याला टॉम म्हणून हाक मारतात\n",
      "----------------------------------------------------------------------------------------\n",
      "English Sentence: i think tom likes me \n",
      "Actual Marathi Sentence: मला वाटतं टॉमला मी आवडते \n",
      "Predicted Marathi Translation:  मला वाटतं टॉमला मी आवडतो\n",
      "----------------------------------------------------------------------------------------\n",
      "English Sentence: we have got three minutes \n",
      "Actual Marathi Sentence: आपल्याकडे तीन मिनिटं आहेत \n",
      "Predicted Marathi Translation:  आमच्याकडे तीन मिनिटं आहेत\n",
      "----------------------------------------------------------------------------------------\n",
      "English Sentence: what did you do with that book \n",
      "Actual Marathi Sentence: काय केलंत त्या पुस्तकाचं \n",
      "Predicted Marathi Translation:  तुम्ही त्या पुस्तकाचं काय केलंत\n",
      "----------------------------------------------------------------------------------------\n",
      "English Sentence: i will phone you as soon as i arrive in boston \n",
      "Actual Marathi Sentence: मी बॉस्टनमध्ये पोहोचल्याबरोबर तुम्हाला फोन करेन \n",
      "Predicted Marathi Translation:  मी बॉस्टनमध्ये पोहोचल्याबरोबर तुला फोन करेन\n",
      "----------------------------------------------------------------------------------------\n",
      "English Sentence: he looked quite tired \n",
      "Actual Marathi Sentence: ते एकदम थकलेले दिसत होते \n",
      "Predicted Marathi Translation:  तो अतिशय थकलेला दिसत होता\n",
      "----------------------------------------------------------------------------------------\n",
      "English Sentence: i see them \n",
      "Actual Marathi Sentence: मी त्यांना बघते \n",
      "Predicted Marathi Translation:  मी त्यांना पाहते\n",
      "----------------------------------------------------------------------------------------\n",
      "English Sentence: i saw you \n",
      "Actual Marathi Sentence: मी तुम्हाला पाहिलं \n",
      "Predicted Marathi Translation:  मी तुला पाहिलं\n",
      "----------------------------------------------------------------------------------------\n",
      "English Sentence: i am not your baby \n",
      "Actual Marathi Sentence: मी तुमचं बाळ नाहीये \n",
      "Predicted Marathi Translation:  मी तुझं बाळ नाहीये\n",
      "----------------------------------------------------------------------------------------\n",
      "English Sentence: i did not complain at all \n",
      "Actual Marathi Sentence: मी मुळीच तक्रार केली नाही \n",
      "Predicted Marathi Translation:  मी अजिबात तक्रार केली नाही\n",
      "----------------------------------------------------------------------------------------\n",
      "English Sentence: tom tried to start the engine \n",
      "Actual Marathi Sentence: टॉमने इंजिन सुरू करून बघितलं \n",
      "Predicted Marathi Translation:  टॉमने इंजिन सुरू करायचा प्रयत्न केला\n",
      "----------------------------------------------------------------------------------------\n",
      "English Sentence: my sister is a teacher \n",
      "Actual Marathi Sentence: माझी बहीण शिक्षिका आहे \n",
      "Predicted Marathi Translation:  माझी बहीण शिक्षक आहे\n",
      "----------------------------------------------------------------------------------------\n",
      "English Sentence: we would not forget \n",
      "Actual Marathi Sentence: आम्ही विसरणार नाही \n",
      "Predicted Marathi Translation:  आपण विसरणार नाही\n",
      "----------------------------------------------------------------------------------------\n",
      "English Sentence: tom did not do anything \n",
      "Actual Marathi Sentence: टॉमने काहीही केलं नाही \n",
      "Predicted Marathi Translation:  टॉमने काहीच केलं नाही\n",
      "----------------------------------------------------------------------------------------\n"
     ]
    }
   ],
   "source": [
    "for i in np.random.randint(10, 1000, size=15):\n",
    "  print(\"English Sentence:\",get_english_sentence(X_test[i]))\n",
    "  print(\"Actual Marathi Sentence:\",get_marathi_sentence(y_test[i])[4:-4])\n",
    "  # Before passing input it has to be reshape as following\n",
    "  print(\"Predicted Marathi Translation:\",get_predicted_sentence(X_test[i].reshape(1,36))[:-4])\n",
    "  print(\"----------------------------------------------------------------------------------------\")"
   ]
  }
 ],
 "metadata": {
  "colab": {
   "collapsed_sections": [],
   "name": "training_attenstion.ipynb",
   "provenance": []
  },
  "kernelspec": {
   "display_name": "Python 3 (ipykernel)",
   "language": "python",
   "name": "python3"
  },
  "language_info": {
   "codemirror_mode": {
    "name": "ipython",
    "version": 3
   },
   "file_extension": ".py",
   "mimetype": "text/x-python",
   "name": "python",
   "nbconvert_exporter": "python",
   "pygments_lexer": "ipython3",
   "version": "3.10.2"
  }
 },
 "nbformat": 4,
 "nbformat_minor": 4
}
